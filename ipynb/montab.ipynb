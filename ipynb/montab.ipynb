{
 "cells": [
  {
   "cell_type": "markdown",
   "id": "8e6491bf-776b-4dae-a91c-c0efd2f8da2f",
   "metadata": {
    "tags": []
   },
   "source": [
    "# desc-wfmon/montab.ipynb: Monitor table viewing example\n",
    "\n",
    "We use the classes in desc-wfmon to examine one of the monitoring tables from DESC gen3 parsl jobs.\n",
    "\n",
    "Copy this file to the run directory or modiufy variable *dir* below.\n",
    "\n",
    "First setup to use the local install area and then import the the system (sysmon) and process (wfmon) explorers. \n",
    "\n",
    "See desc-wfmon/install.ipynb to install that package in the local directory and create the setup on the first line. "
   ]
  },
  {
   "cell_type": "code",
   "execution_count": 1,
   "id": "c4659582-8f7d-40fc-bef1-916456271164",
   "metadata": {},
   "outputs": [
    {
     "name": "stdout",
     "output_type": "stream",
     "text": [
      "/global/u2/d/dladams/desc/rundirs/ptest05\n",
      "Python version is 3.9.7 (default, Sep 16 2021, 13:09:58) \n",
      "[GCC 7.5.0]\n",
      "Python search path starts with ./install/noconda:/global/u2/d/dladams/desc/rundirs/ptest05:\n",
      "TestMonDbReader:ctor: Done.\n",
      "<module 'desc.wfmon' from '/global/u2/d/dladams/desc/rundirs/ptest05/./install/noconda/desc/wfmon/__init__.py'> version is 0.0.16.dev2\n",
      "<module 'desc.sysmon' from '/global/u2/d/dladams/desc/rundirs/ptest05/./install/noconda/desc/sysmon/__init__.py'> version is 0.0.16.dev2\n"
     ]
    }
   ],
   "source": [
    "!pwd\n",
    "%run install/setup.py\n",
    "import sys\n",
    "print(f\"Python version is {sys.version}\")\n",
    "print(f\"Python search path starts with {sys.path[0]}:{sys.path[1]}:{sys.path[2]}\")\n",
    "import pandas\n",
    "import matplotlib.pyplot as plt\n",
    "import matplotlib.colors as pltcol\n",
    "import desc.wfmon\n",
    "import desc.sysmon\n",
    "for pkg in [desc.wfmon, desc.sysmon]:\n",
    "    print(f\"{pkg} version is {pkg.__version__}\")"
   ]
  },
  {
   "cell_type": "markdown",
   "id": "313a69d9-92c0-4f9b-9633-a30e27ba851b",
   "metadata": {},
   "source": [
    "## Configuration\n",
    "Define some useful constants and specify the location of the monitoring data files. Set dir to point to your area."
   ]
  },
  {
   "cell_type": "code",
   "execution_count": 2,
   "id": "1c11c974-6953-4089-b61f-58fd3992a97f",
   "metadata": {},
   "outputs": [],
   "source": [
    "plt.rc('font', size=16)\n",
    "plt.rc('savefig', facecolor='white', bbox='tight')\n",
    "plt.rc('axes', titlesize='medium')\n",
    "\n",
    "mb = 2**20\n",
    "gb = 2**30\n",
    "bunit = gb\n",
    "bunit_sys = bunit/gb\n",
    "sbunit = 'GB'\n",
    "\n",
    "dir = f\"./\"\n",
    "dirProc = dir + 'runinfo/'\n",
    "line = '-----------------------------------------------------------'"
   ]
  },
  {
   "cell_type": "markdown",
   "id": "0b76a712-9b67-4001-8aaa-7595cce6f437",
   "metadata": {},
   "source": [
    "## Fetch system-level monitoring data\n",
    "\n",
    "System level monitoring data is collected using *desc.sysmon*. The data is in csv format and is read here with *pandas*.\n",
    "\n",
    "The column names follow from those of the corresponding *psutil* variables.\n",
    "\n",
    "We fetch the number of CPUs and total memory and check both are consistent for all samples."
   ]
  },
  {
   "cell_type": "code",
   "execution_count": 3,
   "id": "4e7f69f9-94f0-4326-8ba8-52a62fdcc64b",
   "metadata": {},
   "outputs": [
    {
     "name": "stdout",
     "output_type": "stream",
     "text": [
      "System monitor sample count: 716\n",
      "System monitor columns:\n",
      "  time\n",
      "  cpu_count\n",
      "  cpu_percent\n",
      "  cpu_user\n",
      "  cpu_system\n",
      "  cpu_idle\n",
      "  cpu_iowait\n",
      "  cpu_time\n",
      "  mem_total\n",
      "  mem_available\n",
      "  mem_swapfree\n",
      "  dio_readsize\n",
      "  dio_writesize\n",
      "  nio_readsize\n",
      "  nio_writesize\n",
      "CPU count is 128\n",
      "Total memory is 251.3 GB\n"
     ]
    }
   ],
   "source": [
    "sym = pandas.read_csv(dir + 'sysmon.csv')\n",
    "print(f\"System monitor sample count: {len(sym)}\")\n",
    "print(f\"System monitor columns:\")\n",
    "for cnam in sym.columns:\n",
    "    print(f\"  {cnam}\")\n",
    "\n",
    "assert(len(sym.cpu_count.unique()) == 1)\n",
    "ncpu = sym.cpu_count[0]\n",
    "print(f\"CPU count is {ncpu:.0f}\")\n",
    "\n",
    "assert(len(sym.mem_total.unique()) == 1)\n",
    "maxmem = sym.mem_total[0]/bunit_sys\n",
    "print(f\"Total memory is {maxmem:.1f} {sbunit}\")\n"
   ]
  },
  {
   "cell_type": "markdown",
   "id": "5bdba9f2-8335-4c52-8918-dc4a352d9a48",
   "metadata": {},
   "source": [
    "## Fetch the process-level monitoring data\n",
    "\n",
    "The process monitoring data is read from the mysql DB produced by parsl. Of particular interest is the task table where metrics are sampled at regular intervals seprately for each job.\n",
    "\n",
    "We \"fix\" that data to make it more amenable for analysis. Among many other modifications, fixing converts time strings to integers and add a procsum (process summary) table which sums the contributions from all jobs. Although the sampling interval is the same for all jobs, they have different offsets and so there is some ambiguity in this summing.\n",
    "\n",
    "For disk and network I/O, integrated values are recorded but the differential values (the amount read or written each sampling interval) are of interest here. A separate call is made to build a procsum table that includes these differential values. This is not done automatically because it can be slow."
   ]
  },
  {
   "cell_type": "code",
   "execution_count": 4,
   "id": "e145d796-d1a6-47ee-aee9-a839192abae1",
   "metadata": {},
   "outputs": [
    {
     "name": "stdout",
     "output_type": "stream",
     "text": [
      "-----------------------------------------------------------\n",
      "DB ./runinfo/monitoring.db has 9 tables\n",
      "*******************************************************\n",
      "Table workflow has 1 rows and 9 columns\n",
      "Column names:\n",
      "     int64   run_idx\n",
      "     int64   wf_idx\n",
      "   float64   time_began\n",
      "    object   time_completed\n",
      "    object   host\n",
      "    object   user\n",
      "    object   rundir\n",
      "     int64   tasks_failed_count\n",
      "     int64   tasks_completed_count\n",
      "*******************************************************\n",
      "Table task has 2159 rows and 15 columns\n",
      "Column names:\n",
      "     int64   task_id\n",
      "     int64   run_idx\n",
      "    object   task_depends\n",
      "     int64   task_idx\n",
      "    object   task_memoize\n",
      "    object   task_hashsum\n",
      "    object   task_inputs\n",
      "    object   task_outputs\n",
      "    object   task_stdin\n",
      "    object   task_stdout\n",
      "    object   task_stderr\n",
      "   float64   task_time_invoked\n",
      "   float64   task_time_returned\n",
      "     int64   task_fail_count\n",
      "   float64   task_fail_cost\n",
      "*******************************************************\n",
      "Table try has 2160 rows and 12 columns\n",
      "Column names:\n",
      "     int64   try_id\n",
      "     int64   task_id\n",
      "     int64   task_idx\n",
      "     int64   run_idx\n",
      "    object   block_id\n",
      "    object   hostname\n",
      "    object   task_executor\n",
      "   float64   task_try_time_launched\n",
      "   float64   task_try_time_running\n",
      "   float64   task_try_time_returned\n",
      "    object   task_fail_history\n",
      "    object   task_joins\n",
      "*******************************************************\n",
      "Table node has 0 rows and 12 columns\n",
      "Column names:\n",
      "    object   id\n",
      "    object   run_idx\n",
      "    object   hostname\n",
      "    object   uid\n",
      "    object   block_id\n",
      "    object   cpu_count\n",
      "    object   total_memory\n",
      "    object   active\n",
      "    object   worker_count\n",
      "    object   python_v\n",
      "    object   timestamp\n",
      "    object   last_heartbeat\n",
      "*******************************************************\n",
      "Table block has 358 rows and 6 columns\n",
      "Column names:\n",
      "     int64   run_idx\n",
      "    object   executor_label\n",
      "    object   block_id\n",
      "    object   job_id\n",
      "   float64   timestamp\n",
      "    object   status\n",
      "*******************************************************\n",
      "Table status has 4065 rows and 6 columns\n",
      "Column names:\n",
      "     int64   task_id\n",
      "     int64   task_idx\n",
      "    object   task_status_name\n",
      "   float64   timestamp\n",
      "     int64   run_idx\n",
      "     int64   try_id\n",
      "*******************************************************\n",
      "Table resource has 5810 rows and 16 columns\n",
      "Column names:\n",
      "     int64   try_id\n",
      "     int64   task_id\n",
      "     int64   task_idx\n",
      "     int64   run_idx\n",
      "   float64   timestamp\n",
      "   float64   resource_monitoring_interval\n",
      "     int64   psutil_process_pid\n",
      "   float64   psutil_process_memory_percent\n",
      "   float64   psutil_process_children_count\n",
      "   float64   psutil_process_time_user\n",
      "   float64   psutil_process_time_system\n",
      "   float64   psutil_process_memory_virtual\n",
      "   float64   psutil_process_memory_resident\n",
      "   float64   psutil_process_disk_read\n",
      "   float64   psutil_process_disk_write\n",
      "    object   psutil_process_status\n",
      "*******************************************************\n",
      "Table procsum has 494 rows and 12 columns\n",
      "Column names:\n",
      "   float64   timestamp\n",
      "     int64   nval\n",
      "     int64   nproc\n",
      "   float64   run_idx\n",
      "   float64   procsum_memory_percent\n",
      "   float64   procsum_memory_resident\n",
      "   float64   procsum_memory_virtual\n",
      "   float64   procsum_time_clock\n",
      "   float64   procsum_time_user\n",
      "   float64   procsum_time_system\n",
      "   float64   procsum_disk_read\n",
      "   float64   procsum_disk_write\n",
      "*******************************************************\n",
      "Table procsumDelta has 494 rows and 12 columns\n",
      "Column names:\n",
      "   float64   timestamp\n",
      "     int64   nval\n",
      "     int64   nproc\n",
      "   float64   run_idx\n",
      "   float64   procsum_memory_percent\n",
      "   float64   procsum_memory_resident\n",
      "   float64   procsum_memory_virtual\n",
      "   float64   procsum_time_clock\n",
      "   float64   procsum_time_user\n",
      "   float64   procsum_time_system\n",
      "   float64   procsum_disk_read\n",
      "   float64   procsum_disk_write\n",
      "*******************************************************\n"
     ]
    }
   ],
   "source": [
    "dbr = desc.wfmon.MonDbReader(dirProc + 'monitoring.db', dodelta=True)\n",
    "print(line)\n",
    "dbr.tables(2)"
   ]
  },
  {
   "cell_type": "markdown",
   "id": "5db6f8d8-ba2b-49a1-af16-acf497d772ed",
   "metadata": {},
   "source": [
    "## procsum\n",
    "Look at the procsum table"
   ]
  },
  {
   "cell_type": "code",
   "execution_count": 5,
   "id": "b47832bf-27b3-4305-8752-e83285e1bcc5",
   "metadata": {},
   "outputs": [
    {
     "name": "stdout",
     "output_type": "stream",
     "text": [
      "80\n"
     ]
    }
   ],
   "source": [
    "psm = dbr.table(\"procsumDelta\")\n",
    "print(pandas.get_option('display.width'))\n",
    "pandas.set_option('display.width', 160)\n",
    "pandas.set_option('display.max_columns', 20)\n",
    "#print(psm)"
   ]
  },
  {
   "cell_type": "code",
   "execution_count": 6,
   "id": "996e5eae-d2da-43d7-8079-046f995a66da",
   "metadata": {},
   "outputs": [
    {
     "name": "stdout",
     "output_type": "stream",
     "text": [
      "Empty DataFrame\n",
      "Columns: [timestamp, psutil_process_time_user]\n",
      "Index: []\n"
     ]
    }
   ],
   "source": [
    "taskid=255\n",
    "olddf = dbr.table('resource').query(f\"task_id=={taskid}\")[['timestamp', 'psutil_process_time_user']].sort_values(by=['timestamp'])\n",
    "print(olddf.diff())\n",
    "#print(dbr.table('resource').query('task_id==255')['timestamp'].sort_values())"
   ]
  },
  {
   "cell_type": "code",
   "execution_count": 7,
   "id": "272bb989-665f-4aa5-8f9f-3ed064c7b4bc",
   "metadata": {},
   "outputs": [
    {
     "name": "stdout",
     "output_type": "stream",
     "text": [
      "toff = 0, maxdif = 0\n"
     ]
    }
   ],
   "source": [
    "taskid = 255\n",
    "dt = 1\n",
    "toff = 0\n",
    "dtoff = 0.1\n",
    "maxdif = 0\n",
    "while len(olddf) > 2:\n",
    "        maxdif = max(olddf.timestamp.add(toff).mod(dt).diff()[2:].abs())\n",
    "        print(toff, maxdif)\n",
    "        if maxdif < dt/2.: break\n",
    "        if toff > dt/2 + 1:\n",
    "            print(f\"\"\"WARNING: Unable to find offset for run task {taskid}. Using 0.0.\"\"\")\n",
    "            toff = 0.0\n",
    "            break\n",
    "        toff = toff + dtoff\n",
    "print(f\"toff = {toff}, maxdif = {maxdif}\")"
   ]
  },
  {
   "cell_type": "code",
   "execution_count": 8,
   "id": "2b0d4b95-a65f-486a-9abc-35b3d6bdc1c7",
   "metadata": {},
   "outputs": [
    {
     "name": "stdout",
     "output_type": "stream",
     "text": [
      "None\n"
     ]
    }
   ],
   "source": [
    "print(dbr.taskproc(0, 255, False))"
   ]
  },
  {
   "cell_type": "code",
   "execution_count": 11,
   "id": "10786c2d-63c4-41f3-b598-ff07d7431b32",
   "metadata": {},
   "outputs": [],
   "source": [
    "if dbr.taskproc(0,255) is not None: print(dbr.taskproc(0,255)['timestamp'])"
   ]
  },
  {
   "cell_type": "code",
   "execution_count": 12,
   "id": "2f7622d8-16fc-431c-a339-769f101c1c0e",
   "metadata": {},
   "outputs": [
    {
     "name": "stdout",
     "output_type": "stream",
     "text": [
      "     timestamp  run_idx  task_idx  task_id  try_id  toff  procdel_time_clock  nsam  isam  proc_pid proc_status  proc_memory_percent  proc_memory_resident  \\\n",
      "0   907.477025        0         1       33       0   0.0            1.006430    19     0    107582     running             0.172406          4.651622e+08   \n",
      "1   909.560004        0         1       33       0   0.0            2.082979    19     1    107582    sleeping             0.172660          4.658463e+08   \n",
      "2   912.559855        0         1       33       0   0.0            2.999851    19     2    107582    sleeping             0.174131          4.698153e+08   \n",
      "3   915.559811        0         1       33       0   0.0            2.999956    19     3    107582    sleeping             0.174324          4.703355e+08   \n",
      "4   918.558702        0         1       33       0   0.0            2.998891    19     4    107582    sleeping             0.181592          4.899471e+08   \n",
      "5   921.575855        0         1       33       0   0.0            3.017153    19     5    107582    sleeping             0.225336          6.074450e+08   \n",
      "6   924.561590        0         1       33       0   0.0            2.985735    19     6    107582    sleeping             0.292575          7.893852e+08   \n",
      "7   927.561265        0         1       33       0   0.0            2.999675    19     7    107582    sleeping             0.391349          1.055883e+09   \n",
      "8   930.560702        0         1       33       0   0.0            2.999437    19     8    107582    sleeping             0.388176          1.047323e+09   \n",
      "9   933.562476        0         1       33       0   0.0            3.001774    19     9    107582    sleeping             0.388398          1.047921e+09   \n",
      "10  936.560955        0         1       33       0   0.0            2.998479    19    10    107582    sleeping             0.389113          1.049850e+09   \n",
      "11  939.562161        0         1       33       0   0.0            3.001206    19    11    107582    sleeping             0.521359          1.406657e+09   \n",
      "12  942.559338        0         1       33       0   0.0            2.997177    19    12    107582    sleeping             0.400885          1.081610e+09   \n",
      "13  945.562082        0         1       33       0   0.0            3.002744    19    13    107582    sleeping             0.400982          1.081872e+09   \n",
      "14  948.562092        0         1       33       0   0.0            3.000010    19    14    107582    sleeping             0.414964          1.121694e+09   \n",
      "15  951.729589        0         1       33       0   0.0            3.167497    19    15    107582    sleeping             0.401870          1.084269e+09   \n",
      "16  954.568261        0         1       33       0   0.0            2.838672    19    16    107582    sleeping             0.401773          1.084006e+09   \n",
      "17  957.571284        0         1       33       0   0.0            3.003023    19    17    107582    sleeping             0.426234          1.150005e+09   \n",
      "18  960.099057        0         1       33       0   0.0            2.527773    19    18    107582    sleeping             0.174308          4.702945e+08   \n",
      "\n",
      "    proc_memory_virtual  procdel_children_count  procdel_time_user  procdel_time_system  procdel_disk_read  procdel_disk_write  \n",
      "0          1.478255e+09                     2.0               3.31                10.64         46005721.0              2403.0  \n",
      "1          1.478779e+09                     0.0               0.04                 0.10          2690771.0              1042.0  \n",
      "2          1.492496e+09                     1.0               0.06                 0.11          2705494.0              1108.0  \n",
      "3          1.493078e+09                     0.0               0.05                 0.05          2704872.0              1043.0  \n",
      "4          1.675518e+09                     2.0               0.09                 0.16         10468958.0           7761169.0  \n",
      "5          1.865110e+09                    -1.0               1.42                 0.39        559434282.0         520494277.0  \n",
      "6          2.192245e+09                     0.0               1.71                 0.58         39867344.0              1460.0  \n",
      "7          2.535264e+09                     0.0               2.67                 0.27        114349436.0              6784.0  \n",
      "8          2.522751e+09                     0.0               2.94                 0.16          2745984.0              7207.0  \n",
      "9          2.523410e+09                     0.0               2.74                 0.34          2713851.0              1047.0  \n",
      "10         2.524856e+09                     0.0               2.86                 0.21          2718226.0              1817.0  \n",
      "11         2.880926e+09                     0.0               2.60                 0.50          2733268.0             13372.0  \n",
      "12         2.555679e+09                     0.0               2.77                 0.30          2740687.0              3693.0  \n",
      "13         2.555941e+09                     0.0               3.07                 0.03          2753410.0              1047.0  \n",
      "14         2.658288e+09                     0.0               2.98                 0.10          2771396.0              6981.0  \n",
      "15         2.557878e+09                     0.0               3.28                 0.15          2779705.0              2655.0  \n",
      "16         2.557616e+09                     0.0               2.90                 0.04          2779426.0              1047.0  \n",
      "17         2.623095e+09                     0.0               2.94                 0.16         50966494.0          68761628.0  \n",
      "18         1.481437e+09                    -3.0               0.08                 0.02          4795356.0          40936705.0  \n"
     ]
    }
   ],
   "source": [
    "print(dbr.taskproc(0,33))"
   ]
  },
  {
   "cell_type": "code",
   "execution_count": 13,
   "id": "88451efe-fa4b-4965-8f73-4f0fae46ae44",
   "metadata": {},
   "outputs": [
    {
     "data": {
      "image/png": "[encoded data removed]",
      "text/plain": [
       "<Figure size 1440x360 with 1 Axes>"
      ]
     },
     "metadata": {
      "needs_background": "light"
     },
     "output_type": "display_data"
    }
   ],
   "source": [
    "pdx = 20\n",
    "pdy = 5\n",
    "minute = 60\n",
    "hour = 3600\n",
    "day = 24*hour\n",
    "tunit = minute\n",
    "stunit = 'minute'\n",
    "t0sec = dbr.t0\n",
    "delt = dbr.monitoring_interval\n",
    "deltsys = (max(sym.time) - min(sym.time))/float(len(sym) - 1)\n",
    "tmin = 0\n",
    "tmax = 60\n",
    "\n",
    "psm = dbr.table('procsum')\n",
    "psm['tfix'] = psm.timestamp/tunit\n",
    "sym['tfix'] = (sym.time - t0sec)/tunit\n",
    "plt.figure(figsize=(pdx, pdy))\n",
    "plt.plot(sym.tfix, sym.cpu_percent, '.', color='orange')\n",
    "plt.plot(psm.tfix, 100*(psm.procsum_time_user+psm.procsum_time_system)/psm.procsum_time_clock, 'b+')\n",
    "plt.xlabel(f\"Time [{stunit}]\")\n",
    "plt.ylabel('CPU efficiency [%]')\n",
    "plt.grid(True)\n",
    "junk = plt.axis([tmin, tmax, 0, 200])"
   ]
  },
  {
   "cell_type": "code",
   "execution_count": 14,
   "id": "16087843-898a-4bf4-88b0-4115cb0706b0",
   "metadata": {},
   "outputs": [
    {
     "data": {
      "image/png": "[encoded data removed]",
      "text/plain": [
       "<Figure size 1440x360 with 1 Axes>"
      ]
     },
     "metadata": {
      "needs_background": "light"
     },
     "output_type": "display_data"
    }
   ],
   "source": [
    "plt.figure(figsize=(pdx, pdy))\n",
    "plt.hist(bins=150, range=(0,150), x=psm.procsum_time_clock)\n",
    "plt.xlabel(f\"Time [sec]\")\n",
    "plt.grid(True)\n",
    "junk = plt.axis([tmin, 150, 0, 200])"
   ]
  },
  {
   "cell_type": "code",
   "execution_count": 15,
   "id": "072bd985-af01-4a83-8871-7830f8ede60d",
   "metadata": {},
   "outputs": [
    {
     "name": "stdout",
     "output_type": "stream",
     "text": [
      "Maximum number of tries is 1\n"
     ]
    }
   ],
   "source": [
    "print(f\"Maximum number of tries is {dbr.table('try')['try_id'].max()}\")"
   ]
  }
 ],
 "metadata": {
  "kernelspec": {
   "display_name": "NERSC Python",
   "language": "python",
   "name": "python3"
  },
  "language_info": {
   "codemirror_mode": {
    "name": "ipython",
    "version": 3
   },
   "file_extension": ".py",
   "mimetype": "text/x-python",
   "name": "python",
   "nbconvert_exporter": "python",
   "pygments_lexer": "ipython3",
   "version": "3.9.7"
  },
  "toc-autonumbering": false
 },
 "nbformat": 4,
 "nbformat_minor": 5
}
