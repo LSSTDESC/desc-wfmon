{
 "cells": [
  {
   "cell_type": "markdown",
   "id": "8e6491bf-776b-4dae-a91c-c0efd2f8da2f",
   "metadata": {
    "tags": []
   },
   "source": [
    "# desc-wfmon/montab.ipynb: Monitor table viewing example\n",
    "\n",
    "We use the classes in desc-wfmon to examine one of the monitoring tables from DESC gen3 parsl jobs.\n",
    "\n",
    "Copy this file to the run directory or modiufy variable *dir* below.\n",
    "\n",
    "First setup to use the local install area and then import the the system (sysmon) and process (wfmon) explorers. \n",
    "\n",
    "See desc-wfmon/install.ipynb to install that package in the local directory and create the setup on the first line. "
   ]
  },
  {
   "cell_type": "code",
   "execution_count": 1,
   "id": "c4659582-8f7d-40fc-bef1-916456271164",
   "metadata": {},
   "outputs": [
    {
     "name": "stdout",
     "output_type": "stream",
     "text": [
      "/global/u2/d/dladams/desc/rundirs/test20\n",
      "Python version is 3.9.7 (default, Sep 16 2021, 13:09:58) \n",
      "[GCC 7.5.0]\n",
      "Python search path starts with ./install/noconda:/global/u2/d/dladams/desc/rundirs/test20:\n",
      "<module 'desc.wfmon' from '/global/u2/d/dladams/desc/rundirs/test20/./install/noconda/desc/wfmon/__init__.py'> version is 0.0.15\n",
      "<module 'desc.sysmon' from '/global/u2/d/dladams/desc/rundirs/test20/./install/noconda/desc/sysmon/__init__.py'> version is 0.0.15\n"
     ]
    }
   ],
   "source": [
    "!pwd\n",
    "%run install/setup.py\n",
    "import sys\n",
    "print(f\"Python version is {sys.version}\")\n",
    "print(f\"Python search path starts with {sys.path[0]}:{sys.path[1]}:{sys.path[2]}\")\n",
    "import pandas\n",
    "import matplotlib.pyplot as plt\n",
    "import matplotlib.colors as pltcol\n",
    "import desc.wfmon\n",
    "import desc.sysmon\n",
    "for pkg in [desc.wfmon, desc.sysmon]:\n",
    "    print(f\"{pkg} version is {pkg.__version__}\")"
   ]
  },
  {
   "cell_type": "markdown",
   "id": "313a69d9-92c0-4f9b-9633-a30e27ba851b",
   "metadata": {},
   "source": [
    "## Configuration\n",
    "Define some useful constants and specify the location of the monitoring data files. Set dir to point to your area."
   ]
  },
  {
   "cell_type": "code",
   "execution_count": 4,
   "id": "1c11c974-6953-4089-b61f-58fd3992a97f",
   "metadata": {},
   "outputs": [],
   "source": [
    "mb = 2**20\n",
    "gb = 2**30\n",
    "bunit = gb\n",
    "bunit_sys = bunit/gb\n",
    "sbunit = 'GB'\n",
    "\n",
    "dir = f\"./\"\n",
    "dirProc = dir + 'runinfo/'\n",
    "line = '-----------------------------------------------------------'"
   ]
  },
  {
   "cell_type": "markdown",
   "id": "0b76a712-9b67-4001-8aaa-7595cce6f437",
   "metadata": {},
   "source": [
    "## Fetch system-level monitoring data\n",
    "\n",
    "System level monitoring data is collected using *desc.sysmon*. The data is in csv format and is read here with *pandas*.\n",
    "\n",
    "The column names follow from those of the corresponding *psutil* variables.\n",
    "\n",
    "We fetch the number of CPUs and total memory and check both are consistent for all samples."
   ]
  },
  {
   "cell_type": "code",
   "execution_count": 5,
   "id": "4e7f69f9-94f0-4326-8ba8-52a62fdcc64b",
   "metadata": {},
   "outputs": [
    {
     "name": "stdout",
     "output_type": "stream",
     "text": [
      "System monitor sample count: 718\n",
      "System monitor columns:\n",
      "  time\n",
      "  cpu_count\n",
      "  cpu_percent\n",
      "  cpu_user\n",
      "  cpu_system\n",
      "  cpu_idle\n",
      "  cpu_iowait\n",
      "  cpu_time\n",
      "  mem_total\n",
      "  mem_available\n",
      "  mem_swapfree\n",
      "  dio_readsize\n",
      "  dio_writesize\n",
      "  nio_readsize\n",
      "  nio_writesize\n",
      "CPU count is 64\n",
      "Total memory is 125.8 GB\n"
     ]
    }
   ],
   "source": [
    "sym = pandas.read_csv(dir + 'sysmon.csv')\n",
    "print(f\"System monitor sample count: {len(sym)}\")\n",
    "print(f\"System monitor columns:\")\n",
    "for cnam in sym.columns:\n",
    "    print(f\"  {cnam}\")\n",
    "\n",
    "assert(len(sym.cpu_count.unique()) == 1)\n",
    "ncpu = sym.cpu_count[0]\n",
    "print(f\"CPU count is {ncpu:.0f}\")\n",
    "\n",
    "assert(len(sym.mem_total.unique()) == 1)\n",
    "maxmem = sym.mem_total[0]/bunit_sys\n",
    "print(f\"Total memory is {maxmem:.1f} {sbunit}\")\n"
   ]
  },
  {
   "cell_type": "markdown",
   "id": "5bdba9f2-8335-4c52-8918-dc4a352d9a48",
   "metadata": {},
   "source": [
    "## Fetch the process-level monitoring data\n",
    "\n",
    "The process monitoring data is read from the mysql DB produced by parsl. Of particular interest is the task table where metrics are sampled at regular intervals seprately for each job.\n",
    "\n",
    "We \"fix\" that data to make it more amenable for analysis. Among many other modifications, fixing converts time strings to integers and add a procsum (process summary) table which sums the contributions from all jobs. Although the sampling interval is the same for all jobs, they have different offsets and so there is some ambiguity in this summing.\n",
    "\n",
    "For disk and network I/O, integrated values are recorded but the differential values (the amount read or written each sampling interval) are of interest here. A separate call is made to build a procsum table that includes these differential values. This is not done automatically because it can be slow."
   ]
  },
  {
   "cell_type": "code",
   "execution_count": 6,
   "id": "e145d796-d1a6-47ee-aee9-a839192abae1",
   "metadata": {},
   "outputs": [
    {
     "name": "stdout",
     "output_type": "stream",
     "text": [
      "-----------------------------------------------------------\n",
      "DB ./runinfo/monitoring.db has 9 tables\n",
      "*******************************************************\n",
      "Table workflow has 1 rows and 9 columns\n",
      "Column names:\n",
      "     int64   run_idx\n",
      "     int64   wf_idx\n",
      "   float64   time_began\n",
      "    object   time_completed\n",
      "    object   host\n",
      "    object   user\n",
      "    object   rundir\n",
      "     int64   tasks_failed_count\n",
      "     int64   tasks_completed_count\n",
      "*******************************************************\n",
      "Table task has 2159 rows and 15 columns\n",
      "Column names:\n",
      "     int64   task_id\n",
      "     int64   run_idx\n",
      "    object   task_depends\n",
      "     int64   task_idx\n",
      "    object   task_memoize\n",
      "    object   task_hashsum\n",
      "    object   task_inputs\n",
      "    object   task_outputs\n",
      "    object   task_stdin\n",
      "    object   task_stdout\n",
      "    object   task_stderr\n",
      "   float64   task_time_invoked\n",
      "   float64   task_time_returned\n",
      "     int64   task_fail_count\n",
      "   float64   task_fail_cost\n",
      "*******************************************************\n",
      "Table try has 2159 rows and 12 columns\n",
      "Column names:\n",
      "     int64   try_id\n",
      "     int64   task_id\n",
      "     int64   task_idx\n",
      "     int64   run_idx\n",
      "    object   block_id\n",
      "    object   hostname\n",
      "    object   task_executor\n",
      "   float64   task_try_time_launched\n",
      "   float64   task_try_time_running\n",
      "   float64   task_try_time_returned\n",
      "    object   task_fail_history\n",
      "    object   task_joins\n",
      "*******************************************************\n",
      "Table node has 0 rows and 12 columns\n",
      "Column names:\n",
      "    object   id\n",
      "    object   run_idx\n",
      "    object   hostname\n",
      "    object   uid\n",
      "    object   block_id\n",
      "    object   cpu_count\n",
      "    object   total_memory\n",
      "    object   active\n",
      "    object   worker_count\n",
      "    object   python_v\n",
      "    object   timestamp\n",
      "    object   last_heartbeat\n",
      "*******************************************************\n",
      "Table block has 682 rows and 6 columns\n",
      "Column names:\n",
      "     int64   run_idx\n",
      "    object   executor_label\n",
      "    object   block_id\n",
      "    object   job_id\n",
      "   float64   timestamp\n",
      "    object   status\n",
      "*******************************************************\n",
      "Table status has 10795 rows and 6 columns\n",
      "Column names:\n",
      "     int64   task_id\n",
      "     int64   task_idx\n",
      "    object   task_status_name\n",
      "   float64   timestamp\n",
      "     int64   run_idx\n",
      "     int64   try_id\n",
      "*******************************************************\n",
      "Table resource has 45107 rows and 16 columns\n",
      "Column names:\n",
      "     int64   try_id\n",
      "     int64   task_id\n",
      "     int64   task_idx\n",
      "     int64   run_idx\n",
      "   float64   timestamp\n",
      "   float64   resource_monitoring_interval\n",
      "     int64   psutil_process_pid\n",
      "   float64   psutil_process_memory_percent\n",
      "   float64   psutil_process_children_count\n",
      "   float64   psutil_process_time_user\n",
      "   float64   psutil_process_time_system\n",
      "   float64   psutil_process_memory_virtual\n",
      "   float64   psutil_process_memory_resident\n",
      "   float64   psutil_process_disk_read\n",
      "   float64   psutil_process_disk_write\n",
      "    object   psutil_process_status\n",
      "*******************************************************\n",
      "Table procsum has 1013 rows and 12 columns\n",
      "Column names:\n",
      "   float64   timestamp\n",
      "     int64   nval\n",
      "     int64   nproc\n",
      "   float64   run_idx\n",
      "   float64   procsum_memory_percent\n",
      "   float64   procsum_memory_resident\n",
      "   float64   procsum_memory_virtual\n",
      "   float64   procsum_time_clock\n",
      "   float64   procsum_time_user\n",
      "   float64   procsum_time_system\n",
      "   float64   procsum_disk_read\n",
      "   float64   procsum_disk_write\n",
      "*******************************************************\n",
      "Table procsumDelta has 1013 rows and 12 columns\n",
      "Column names:\n",
      "   float64   timestamp\n",
      "     int64   nval\n",
      "     int64   nproc\n",
      "   float64   run_idx\n",
      "   float64   procsum_memory_percent\n",
      "   float64   procsum_memory_resident\n",
      "   float64   procsum_memory_virtual\n",
      "   float64   procsum_time_clock\n",
      "   float64   procsum_time_user\n",
      "   float64   procsum_time_system\n",
      "   float64   procsum_disk_read\n",
      "   float64   procsum_disk_write\n",
      "*******************************************************\n"
     ]
    }
   ],
   "source": [
    "dbr = desc.wfmon.MonDbReader(dirProc + 'monitoring.db', dodelta=True)\n",
    "print(line)\n",
    "dbr.tables(2)"
   ]
  },
  {
   "cell_type": "markdown",
   "id": "5db6f8d8-ba2b-49a1-af16-acf497d772ed",
   "metadata": {},
   "source": [
    "## procsum\n",
    "Look at the procsum table"
   ]
  },
  {
   "cell_type": "code",
   "execution_count": 7,
   "id": "b47832bf-27b3-4305-8752-e83285e1bcc5",
   "metadata": {},
   "outputs": [
    {
     "name": "stdout",
     "output_type": "stream",
     "text": [
      "80\n"
     ]
    }
   ],
   "source": [
    "psm = dbr.table(\"procsumDelta\")\n",
    "print(pandas.get_option('display.width'))\n",
    "pandas.set_option('display.width', 160)\n",
    "pandas.set_option('display.max_columns', 20)\n",
    "#print(psm)"
   ]
  },
  {
   "cell_type": "code",
   "execution_count": 8,
   "id": "996e5eae-d2da-43d7-8079-046f995a66da",
   "metadata": {},
   "outputs": [
    {
     "name": "stdout",
     "output_type": "stream",
     "text": [
      "       timestamp  psutil_process_time_user\n",
      "39365        NaN                       NaN\n",
      "39391   3.000142                      0.30\n",
      "39444   2.918900                      2.65\n",
      "39483   3.056829                      2.81\n",
      "39534   2.956895                      2.47\n",
      "39586   3.057568                      2.03\n",
      "39611   2.972936                      2.85\n",
      "39656   2.964260                      2.84\n",
      "39704   3.061438                      2.87\n",
      "39752   3.021259                      3.21\n",
      "39819   2.976374                      3.11\n",
      "39865   2.997954                      3.14\n",
      "39883   3.017583                      3.20\n",
      "39961   3.000769                      3.18\n",
      "40006   2.938535                      3.03\n",
      "40064   3.289375                      3.63\n",
      "40119   2.772324                      2.95\n",
      "40173   2.995155                      2.91\n",
      "40209   3.001769                      3.00\n",
      "40255   3.001591                      2.89\n",
      "40300   2.937762                      3.03\n",
      "40358   3.011070                      3.14\n",
      "40405   3.055225                      3.24\n",
      "40446   2.998613                      3.17\n",
      "40490   2.980296                      3.13\n",
      "40563   3.013717                      3.18\n",
      "40616   2.994219                      3.16\n",
      "40663   2.998613                      3.14\n",
      "40718   2.998268                      3.15\n",
      "40748   2.996932                      3.08\n",
      "40791   3.000011                      2.87\n",
      "40839   3.009124                      3.14\n",
      "40889   2.994838                      3.15\n",
      "40950   2.997923                      3.14\n",
      "40990   2.948878                      3.03\n",
      "41041   3.188419                      3.53\n",
      "41076   2.857641                      3.00\n",
      "41111   2.999672                      2.94\n",
      "41167   2.935394                      2.63\n",
      "41189   2.911771                      0.14\n"
     ]
    }
   ],
   "source": [
    "taskid=255\n",
    "olddf = dbr.table('resource').query(f\"task_id=={taskid}\")[['timestamp', 'psutil_process_time_user']].sort_values(by=['timestamp'])\n",
    "print(olddf.diff())\n",
    "#print(dbr.table('resource').query('task_id==255')['timestamp'].sort_values())"
   ]
  },
  {
   "cell_type": "code",
   "execution_count": 9,
   "id": "272bb989-665f-4aa5-8f9f-3ed064c7b4bc",
   "metadata": {},
   "outputs": [
    {
     "name": "stdout",
     "output_type": "stream",
     "text": [
      "0 0.28937506675720215\n",
      "toff = 0, maxdif = 0.28937506675720215\n"
     ]
    }
   ],
   "source": [
    "taskid = 255\n",
    "dt = 1\n",
    "toff = 0\n",
    "dtoff = 0.1\n",
    "maxdiff = 0\n",
    "while len(olddf) > 2:\n",
    "        maxdif = max(olddf.timestamp.add(toff).mod(dt).diff()[2:].abs())\n",
    "        print(toff, maxdif)\n",
    "        if maxdif < dt/2.: break\n",
    "        if toff > dt/2 + 1:\n",
    "            print(f\"\"\"WARNING: Unable to find offset for run task {taskid}. Using 0.0.\"\"\")\n",
    "            toff = 0.0\n",
    "            break\n",
    "        toff = toff + dtoff\n",
    "print(f\"toff = {toff}, maxdif = {maxdif}\")"
   ]
  },
  {
   "cell_type": "code",
   "execution_count": 8,
   "id": "2b0d4b95-a65f-486a-9abc-35b3d6bdc1c7",
   "metadata": {},
   "outputs": [
    {
     "name": "stdout",
     "output_type": "stream",
     "text": [
      "      timestamp  run_idx  task_idx  task_id  try_id  toff  procsum_time_clock  nsam  isam  proc_pid proc_status  proc_memory_percent  proc_memory_resident  \\\n",
      "0   3071.294898        0         3      255       0   0.0            2.785963    20     0      5018    sleeping             0.335379           452964352.0   \n",
      "1   3072.283711        0         3      255       0   0.0            3.774776    20     1      5018    sleeping             0.352298           475869184.0   \n",
      "2   3073.226626        0         3      255       0   0.0            4.717691    20     2      5018    sleeping             0.366949           495603712.0   \n",
      "3   3074.239441        0         3      255       0   0.0            5.730506    20     3      5018    sleeping             0.377670           510083072.0   \n",
      "4   3075.216097        0         3      255       0   0.0            6.707162    20     4      5018    sleeping             0.397907           537415680.0   \n",
      "5   3076.194246        0         3      255       0   0.0            7.685311    20     5      5018    sleeping             0.411112           555249664.0   \n",
      "6   3077.208077        0         3      255       0   0.0            8.699142    20     6      5018    sleeping             0.421538           569331712.0   \n",
      "7   3078.250139        0         3      255       0   0.0            9.741204    20     7      5018    sleeping             0.430597           581566464.0   \n",
      "8   3079.220987        0         3      255       0   0.0           10.712052    20     8      5018    sleeping             0.449072           606519296.0   \n",
      "9   3080.249559        0         3      255       0   0.0           11.740624    20     9      5018    sleeping             0.472479           638132224.0   \n",
      "10  3081.236621        0         3      255       0   0.0           12.727686    20    10      5018    sleeping             0.476330           643334144.0   \n",
      "11  3082.244959        0         3      255       0   0.0           13.736024    20    11      5018    sleeping             0.478350           646062080.0   \n",
      "12  3083.267548        0         3      255       0   0.0           14.758613    20    12      5018    sleeping             0.504907           681930752.0   \n",
      "13  3084.274495        0         3      255       0   0.0           15.765560    20    13      5018    sleeping             0.520902           703533056.0   \n",
      "14  3085.265289        0         3      255       0   0.0           16.756354    20    14      5018    sleeping             0.520902           703533056.0   \n",
      "15  3086.603557        0         3      255       0   0.0           18.094622    20    15      5018    sleeping             0.521548           704405504.0   \n",
      "16  3087.583862        0         3      255       0   0.0           19.074927    20    16      5018    sleeping             0.522230           705327104.0   \n",
      "17  3088.933646        0         3      255       0   0.0           20.424711    20    17      5018    sleeping             0.534076           721326080.0   \n",
      "18  3090.263611        0         3      255       0   0.0           21.754676    20    18      5018    sleeping             0.535929           723828736.0   \n",
      "19  3091.315372        0         3      255       0   0.0           22.806437    20    19      5018    sleeping             0.333174           449986560.0   \n",
      "\n",
      "    proc_memory_virtual  proc_children_count  proc_time_user  proc_time_system  proc_disk_read  proc_disk_write  \n",
      "0          1.414726e+09                  3.0            6.00              2.11      53338241.0        7754219.0  \n",
      "1          1.477358e+09                  3.0            6.60              2.37      59499316.0        7755282.0  \n",
      "2          1.505751e+09                  3.0            7.11              2.64      65281813.0        7756345.0  \n",
      "3          1.528463e+09                  3.0            7.66              2.88      70447085.0        7757415.0  \n",
      "4          1.576231e+09                  3.0            8.34              3.14      78421505.0        7758478.0  \n",
      "5          1.732641e+09                  3.0            9.08              3.24      84319190.0        7759541.0  \n",
      "6          1.747808e+09                  3.0           10.09              3.35      90208851.0        7760604.0  \n",
      "7          1.763213e+09                  3.0           10.57              3.58      94212310.0        7761667.0  \n",
      "8          1.813791e+09                  3.0           11.12              3.77      97678241.0        7762730.0  \n",
      "9          1.854456e+09                  3.0           11.78              4.08     106446481.0        7763793.0  \n",
      "10         1.859117e+09                  3.0           12.56              4.19     113206312.0        7764856.0  \n",
      "11         1.861612e+09                  3.0           13.17              4.31     123102430.0        7765919.0  \n",
      "12         2.024735e+09                  3.0           14.07              4.54     129276705.0        7767147.0  \n",
      "13         2.056086e+09                  3.0           14.88              4.73     135950080.0        7768378.0  \n",
      "14         2.056348e+09                  3.0           15.22              4.85     141381873.0        7769441.0  \n",
      "15         2.056380e+09                  3.0           15.82              4.96     148266998.0        7770504.0  \n",
      "16         2.057495e+09                  3.0           16.11              5.06     153723398.0        7771567.0  \n",
      "17         2.145083e+09                  3.0           16.75              5.22     165964266.0        7775563.0  \n",
      "18         2.150150e+09                  3.0           17.59              5.26     171360399.0        8062340.0  \n",
      "19         1.384096e+09                  1.0           17.71              5.30     173677322.0        8063456.0  \n"
     ]
    }
   ],
   "source": [
    "print(dbr.taskproc(0, 255, False))"
   ]
  },
  {
   "cell_type": "code",
   "execution_count": 14,
   "id": "10786c2d-63c4-41f3-b598-ff07d7431b32",
   "metadata": {},
   "outputs": [
    {
     "name": "stdout",
     "output_type": "stream",
     "text": [
      "0     3071.294898\n",
      "1     3072.283711\n",
      "2     3073.226626\n",
      "3     3074.239441\n",
      "4     3075.216097\n",
      "5     3076.194246\n",
      "6     3077.208077\n",
      "7     3078.250139\n",
      "8     3079.220987\n",
      "9     3080.249559\n",
      "10    3081.236621\n",
      "11    3082.244959\n",
      "12    3083.267548\n",
      "13    3084.274495\n",
      "14    3085.265289\n",
      "15    3086.603557\n",
      "16    3087.583862\n",
      "17    3088.933646\n",
      "18    3090.263611\n",
      "19    3091.315372\n",
      "Name: timestamp, dtype: float64\n"
     ]
    }
   ],
   "source": [
    "print(dbr.taskproc(0,255)['timestamp'])"
   ]
  },
  {
   "cell_type": "code",
   "execution_count": 10,
   "id": "2f7622d8-16fc-431c-a339-769f101c1c0e",
   "metadata": {},
   "outputs": [
    {
     "name": "stdout",
     "output_type": "stream",
     "text": [
      "     timestamp  run_idx  task_idx  task_id  try_id  toff  procdel_time_clock  nsam  isam  proc_pid proc_status  proc_memory_percent  proc_memory_resident  \\\n",
      "0   376.445388        0         3       33       0   0.0            0.219018    27     0     55391    sleeping             0.334745           452108288.0   \n",
      "1   377.401268        0         3       33       0   0.0            0.955880    27     1     55391    sleeping             0.344301           465014784.0   \n",
      "2   378.401545        0         3       33       0   0.0            1.000277    27     2     55391    sleeping             0.364475           492261376.0   \n",
      "3   379.388082        0         3       33       0   0.0            0.986537    27     3     55391    sleeping             0.367495           496340992.0   \n",
      "4   380.376127        0         3       33       0   0.0            0.988045    27     4     55391    sleeping             0.372044           502484992.0   \n",
      "5   381.377533        0         3       33       0   0.0            1.001406    27     5     55391    sleeping             0.380226           513536000.0   \n",
      "6   382.403319        0         3       33       0   0.0            1.025786    27     6     55391    sleeping             0.395848           534634496.0   \n",
      "7   383.430569        0         3       33       0   0.0            1.027250    27     7     55391    sleeping             0.410754           554766336.0   \n",
      "8   384.425759        0         3       33       0   0.0            0.995190    27     8     55391    sleeping             0.419988           567238656.0   \n",
      "9   385.421678        0         3       33       0   0.0            0.995919    27     9     55391    sleeping             0.430427           581337088.0   \n",
      "10  386.416749        0         3       33       0   0.0            0.995071    27    10     55391    sleeping             0.430430           581341184.0   \n",
      "11  387.366137        0         3       33       0   0.0            0.949388    27    11     55391    sleeping             0.432423           584032256.0   \n",
      "12  388.410243        0         3       33       0   0.0            1.044106    27    12     55391    sleeping             0.462274           624349184.0   \n",
      "13  389.403355        0         3       33       0   0.0            0.993112    27    13     55391    sleeping             0.473652           639717376.0   \n",
      "14  390.416444        0         3       33       0   0.0            1.013089    27    14     55391    sleeping             0.476730           643874816.0   \n",
      "15  391.651134        0         3       33       0   0.0            1.234690    27    15     55391    sleeping             0.478204           645865472.0   \n",
      "16  392.383494        0         3       33       0   0.0            0.732360    27    16     55391    sleeping             0.491676           664059904.0   \n",
      "17  393.421705        0         3       33       0   0.0            1.038211    27    17     55391    sleeping             0.513338           693317632.0   \n",
      "18  394.389506        0         3       33       0   0.0            0.967801    27    18     55391    sleeping             0.521202           703938560.0   \n",
      "19  395.419275        0         3       33       0   0.0            1.029769    27    19     55391    sleeping             0.521599           704475136.0   \n",
      "20  396.439215        0         3       33       0   0.0            1.019940    27    20     55391    sleeping             0.522197           705282048.0   \n",
      "21  397.429747        0         3       33       0   0.0            0.990532    27    21     55391    sleeping             0.524793           708788224.0   \n",
      "22  398.420521        0         3       33       0   0.0            0.990774    27    22     55391    sleeping             0.534425           721797120.0   \n",
      "23  399.411257        0         3       33       0   0.0            0.990736    27    23     55391    sleeping             0.535426           723148800.0   \n",
      "24  400.436528        0         3       33       0   0.0            1.025271    27    24     55391    sleeping             0.536023           723955712.0   \n",
      "25  401.436227        0         3       33       0   0.0            0.999699    27    25     55391    sleeping             0.336110           453951488.0   \n",
      "26  401.722811        0         3       33       0   0.0            0.286584    27    26     55391    sleeping             0.333702           450699264.0   \n",
      "\n",
      "    proc_memory_virtual  procdel_children_count  procdel_time_user  procdel_time_system  procdel_disk_read  procdel_disk_write  \n",
      "0          1.410429e+09                     3.0               7.02                 2.51         53197845.0           7627243.0  \n",
      "1          1.424978e+09                     0.0               0.43                 0.23          3939358.0            128038.0  \n",
      "2          1.502093e+09                     0.0               0.52                 0.21          7336303.0              1062.0  \n",
      "3          1.506279e+09                     0.0               0.20                 0.17          3112160.0              1062.0  \n",
      "4          1.512952e+09                     0.0               0.33                 0.13          3073198.0              1069.0  \n",
      "5          1.533837e+09                     0.0               0.38                 0.17          5011426.0              1062.0  \n",
      "6          1.572852e+09                     0.0               0.63                 0.19          6345868.0              1062.0  \n",
      "7          1.731772e+09                     0.0               0.75                 0.15          6687406.0              1062.0  \n",
      "8          1.745707e+09                     0.0               0.95                 0.09          5440978.0              1062.0  \n",
      "9          1.762673e+09                     0.0               0.50                 0.13          4585102.0              1062.0  \n",
      "10         1.762808e+09                     0.0               0.24                 0.14          2397270.0              1062.0  \n",
      "11         1.765351e+09                     0.0               0.29                 0.16          3164905.0              1062.0  \n",
      "12         1.836188e+09                     0.0               0.71                 0.20          5261425.0              1062.0  \n",
      "13         1.856070e+09                     0.0               0.60                 0.19          6347665.0              1062.0  \n",
      "14         1.859654e+09                     0.0               0.61                 0.13          7031243.0              1062.0  \n",
      "15         1.861235e+09                     0.0               0.68                 0.15          8126982.0              1062.0  \n",
      "16         1.934742e+09                     0.0               0.49                 0.10          4502675.0              1062.0  \n",
      "17         2.038817e+09                     0.0               0.69                 0.24          8369551.0              1227.0  \n",
      "18         2.056491e+09                     0.0               0.53                 0.13          4754988.0              1230.0  \n",
      "19         2.056790e+09                     0.0               0.38                 0.12          6634980.0              1062.0  \n",
      "20         2.057634e+09                     0.0               0.37                 0.12          6698411.0              1062.0  \n",
      "21         2.131538e+09                     0.0               0.47                 0.13          5357823.0              3934.0  \n",
      "22         2.145227e+09                     0.0               0.55                 0.13         10226885.0              1126.0  \n",
      "23         2.146443e+09                     0.0               0.59                 0.09         13248224.0              1062.0  \n",
      "24         2.150638e+09                     0.0               0.34                 0.06          2870737.0            322735.0  \n",
      "25         1.397518e+09                     0.0               1.07                 0.08        -82551639.0           -323885.0  \n",
      "26         1.384759e+09                    -2.0               0.11                 0.04         87468060.0            327815.0  \n"
     ]
    }
   ],
   "source": [
    "print(dbr.taskproc(0,33))"
   ]
  },
  {
   "cell_type": "code",
   "execution_count": 11,
   "id": "88451efe-fa4b-4965-8f73-4f0fae46ae44",
   "metadata": {},
   "outputs": [
    {
     "data": {
      "image/png": "[encoded data removed]",
      "text/plain": [
       "<Figure size 1440x360 with 1 Axes>"
      ]
     },
     "metadata": {
      "needs_background": "light"
     },
     "output_type": "display_data"
    }
   ],
   "source": [
    "pdx = 20\n",
    "pdy = 5\n",
    "minute = 60\n",
    "hour = 3600\n",
    "day = 24*hour\n",
    "tunit = minute\n",
    "stunit = 'minute'\n",
    "t0sec = dbr.t0\n",
    "delt = dbr.monitoring_interval\n",
    "deltsys = (max(sym.time) - min(sym.time))/float(len(sym) - 1)\n",
    "tmin = 0\n",
    "tmax = 60\n",
    "\n",
    "psm = dbr.table('procsum')\n",
    "psm['tfix'] = psm.timestamp/tunit\n",
    "sym['tfix'] = (sym.time - t0sec)/tunit\n",
    "plt.figure(figsize=(pdx, pdy))\n",
    "plt.plot(sym.tfix, sym.cpu_percent, '.', color='orange')\n",
    "plt.plot(psm.tfix, 100*(psm.procsum_time_user+psm.procsum_time_system)/psm.procsum_time_clock, 'b+')\n",
    "plt.xlabel(f\"Time [{stunit}]\")\n",
    "plt.ylabel('CPU efficiency [%]')\n",
    "plt.grid(True)\n",
    "junk = plt.axis([tmin, tmax, 0, 200])"
   ]
  },
  {
   "cell_type": "code",
   "execution_count": 12,
   "id": "16087843-898a-4bf4-88b0-4115cb0706b0",
   "metadata": {},
   "outputs": [
    {
     "data": {
      "image/png": "[encoded data removed]",
      "text/plain": [
       "<Figure size 1440x360 with 1 Axes>"
      ]
     },
     "metadata": {
      "needs_background": "light"
     },
     "output_type": "display_data"
    }
   ],
   "source": [
    "plt.figure(figsize=(pdx, pdy))\n",
    "plt.hist(bins=150, range=(0,150), x=psm.procsum_time_clock)\n",
    "plt.xlabel(f\"Time [sec]\")\n",
    "plt.grid(True)\n",
    "junk = plt.axis([tmin, 150, 0, 200])"
   ]
  },
  {
   "cell_type": "code",
   "execution_count": 13,
   "id": "072bd985-af01-4a83-8871-7830f8ede60d",
   "metadata": {},
   "outputs": [
    {
     "name": "stdout",
     "output_type": "stream",
     "text": [
      "Maximum number of tries is 0\n"
     ]
    }
   ],
   "source": [
    "print(f\"Maximum number of tries is {dbr.table('try')['try_id'].max()}\")"
   ]
  },
  {
   "cell_type": "code",
   "execution_count": null,
   "id": "95223604-5e7b-4296-8931-6bc9063f566f",
   "metadata": {},
   "outputs": [],
   "source": []
  }
 ],
 "metadata": {
  "kernelspec": {
   "display_name": "NERSC Python",
   "language": "python",
   "name": "python3"
  },
  "language_info": {
   "codemirror_mode": {
    "name": "ipython",
    "version": 3
   },
   "file_extension": ".py",
   "mimetype": "text/x-python",
   "name": "python",
   "nbconvert_exporter": "python",
   "pygments_lexer": "ipython3",
   "version": "3.9.7"
  },
  "toc-autonumbering": false
 },
 "nbformat": 4,
 "nbformat_minor": 5
}
