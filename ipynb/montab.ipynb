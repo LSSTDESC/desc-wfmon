{
 "cells": [
  {
   "cell_type": "markdown",
   "id": "8e6491bf-776b-4dae-a91c-c0efd2f8da2f",
   "metadata": {
    "tags": []
   },
   "source": [
    "# desc-wfmon/montab.ipynb: Monitor table viewing example\n",
    "\n",
    "We use the classes in desc-wfmon to examine one of the monitoring tables from DESC gen3 parsl jobs.\n",
    "\n",
    "Copy this file to the run directory or modiufy variable *dir* below.\n",
    "\n",
    "First setup to use the local install area and then import the the system (sysmon) and process (wfmon) explorers. \n",
    "\n",
    "See desc-wfmon/install.ipynb to install that package in the local directory and create the setup on the first line. "
   ]
  },
  {
   "cell_type": "code",
   "execution_count": 1,
   "id": "c4659582-8f7d-40fc-bef1-916456271164",
   "metadata": {},
   "outputs": [
    {
     "name": "stdout",
     "output_type": "stream",
     "text": [
      "/global/u2/d/dladams/desc/rundirs/test20\n",
      "Python version is 3.9.7 (default, Sep 16 2021, 13:09:58) \n",
      "[GCC 7.5.0]\n",
      "Python search path starts with ./install/noconda:/global/u2/d/dladams/desc/rundirs/test20:\n",
      "TestMonDbReader:ctor: Done.\n",
      "<module 'desc.wfmon' from '/global/u2/d/dladams/desc/rundirs/test20/./install/noconda/desc/wfmon/__init__.py'> version is 0.0.16.dev2\n",
      "<module 'desc.sysmon' from '/global/u2/d/dladams/desc/rundirs/test20/./install/noconda/desc/sysmon/__init__.py'> version is 0.0.16.dev2\n"
     ]
    }
   ],
   "source": [
    "!pwd\n",
    "%run install/setup.py\n",
    "import sys\n",
    "print(f\"Python version is {sys.version}\")\n",
    "print(f\"Python search path starts with {sys.path[0]}:{sys.path[1]}:{sys.path[2]}\")\n",
    "import pandas\n",
    "import matplotlib.pyplot as plt\n",
    "import matplotlib.colors as pltcol\n",
    "import desc.wfmon\n",
    "import desc.sysmon\n",
    "for pkg in [desc.wfmon, desc.sysmon]:\n",
    "    print(f\"{pkg} version is {pkg.__version__}\")"
   ]
  },
  {
   "cell_type": "markdown",
   "id": "313a69d9-92c0-4f9b-9633-a30e27ba851b",
   "metadata": {},
   "source": [
    "## Configuration\n",
    "Define some useful constants and specify the location of the monitoring data files. Set dir to point to your area."
   ]
  },
  {
   "cell_type": "code",
   "execution_count": 2,
   "id": "1c11c974-6953-4089-b61f-58fd3992a97f",
   "metadata": {},
   "outputs": [],
   "source": [
    "plt.rc('font', size=16)\n",
    "plt.rc('savefig', facecolor='white', bbox='tight')\n",
    "plt.rc('axes', titlesize='medium')\n",
    "\n",
    "mb = 2**20\n",
    "gb = 2**30\n",
    "bunit = gb\n",
    "bunit_sys = bunit/gb\n",
    "sbunit = 'GB'\n",
    "\n",
    "dir = f\"./\"\n",
    "dirProc = dir + 'runinfo/'\n",
    "line = '-----------------------------------------------------------'"
   ]
  },
  {
   "cell_type": "markdown",
   "id": "0b76a712-9b67-4001-8aaa-7595cce6f437",
   "metadata": {},
   "source": [
    "## Fetch system-level monitoring data\n",
    "\n",
    "System level monitoring data is collected using *desc.sysmon*. The data is in csv format and is read here with *pandas*.\n",
    "\n",
    "The column names follow from those of the corresponding *psutil* variables.\n",
    "\n",
    "We fetch the number of CPUs and total memory and check both are consistent for all samples."
   ]
  },
  {
   "cell_type": "code",
   "execution_count": 3,
   "id": "4e7f69f9-94f0-4326-8ba8-52a62fdcc64b",
   "metadata": {},
   "outputs": [
    {
     "name": "stdout",
     "output_type": "stream",
     "text": [
      "System monitor sample count: 718\n",
      "System monitor columns:\n",
      "  time\n",
      "  cpu_count\n",
      "  cpu_percent\n",
      "  cpu_user\n",
      "  cpu_system\n",
      "  cpu_idle\n",
      "  cpu_iowait\n",
      "  cpu_time\n",
      "  mem_total\n",
      "  mem_available\n",
      "  mem_swapfree\n",
      "  dio_readsize\n",
      "  dio_writesize\n",
      "  nio_readsize\n",
      "  nio_writesize\n",
      "CPU count is 64\n",
      "Total memory is 125.8 GB\n"
     ]
    }
   ],
   "source": [
    "sym = pandas.read_csv(dir + 'sysmon.csv')\n",
    "print(f\"System monitor sample count: {len(sym)}\")\n",
    "print(f\"System monitor columns:\")\n",
    "for cnam in sym.columns:\n",
    "    print(f\"  {cnam}\")\n",
    "\n",
    "assert(len(sym.cpu_count.unique()) == 1)\n",
    "ncpu = sym.cpu_count[0]\n",
    "print(f\"CPU count is {ncpu:.0f}\")\n",
    "\n",
    "assert(len(sym.mem_total.unique()) == 1)\n",
    "maxmem = sym.mem_total[0]/bunit_sys\n",
    "print(f\"Total memory is {maxmem:.1f} {sbunit}\")\n"
   ]
  },
  {
   "cell_type": "markdown",
   "id": "5bdba9f2-8335-4c52-8918-dc4a352d9a48",
   "metadata": {},
   "source": [
    "## Fetch the process-level monitoring data\n",
    "\n",
    "The process monitoring data is read from the mysql DB produced by parsl. Of particular interest is the task table where metrics are sampled at regular intervals seprately for each job.\n",
    "\n",
    "We \"fix\" that data to make it more amenable for analysis. Among many other modifications, fixing converts time strings to integers and add a procsum (process summary) table which sums the contributions from all jobs. Although the sampling interval is the same for all jobs, they have different offsets and so there is some ambiguity in this summing.\n",
    "\n",
    "For disk and network I/O, integrated values are recorded but the differential values (the amount read or written each sampling interval) are of interest here. A separate call is made to build a procsum table that includes these differential values. This is not done automatically because it can be slow."
   ]
  },
  {
   "cell_type": "code",
   "execution_count": 4,
   "id": "e145d796-d1a6-47ee-aee9-a839192abae1",
   "metadata": {},
   "outputs": [
    {
     "name": "stdout",
     "output_type": "stream",
     "text": [
      "-----------------------------------------------------------\n",
      "DB ./runinfo/monitoring.db has 9 tables\n",
      "*******************************************************\n",
      "Table workflow has 1 rows and 9 columns\n",
      "Column names:\n",
      "     int64   run_idx\n",
      "     int64   wf_idx\n",
      "   float64   time_began\n",
      "    object   time_completed\n",
      "    object   host\n",
      "    object   user\n",
      "    object   rundir\n",
      "     int64   tasks_failed_count\n",
      "     int64   tasks_completed_count\n",
      "*******************************************************\n",
      "Table task has 2159 rows and 15 columns\n",
      "Column names:\n",
      "     int64   task_id\n",
      "     int64   run_idx\n",
      "    object   task_depends\n",
      "     int64   task_idx\n",
      "    object   task_memoize\n",
      "    object   task_hashsum\n",
      "    object   task_inputs\n",
      "    object   task_outputs\n",
      "    object   task_stdin\n",
      "    object   task_stdout\n",
      "    object   task_stderr\n",
      "   float64   task_time_invoked\n",
      "   float64   task_time_returned\n",
      "     int64   task_fail_count\n",
      "   float64   task_fail_cost\n",
      "*******************************************************\n",
      "Table try has 2159 rows and 12 columns\n",
      "Column names:\n",
      "     int64   try_id\n",
      "     int64   task_id\n",
      "     int64   task_idx\n",
      "     int64   run_idx\n",
      "    object   block_id\n",
      "    object   hostname\n",
      "    object   task_executor\n",
      "   float64   task_try_time_launched\n",
      "   float64   task_try_time_running\n",
      "   float64   task_try_time_returned\n",
      "    object   task_fail_history\n",
      "    object   task_joins\n",
      "*******************************************************\n",
      "Table node has 0 rows and 12 columns\n",
      "Column names:\n",
      "    object   id\n",
      "    object   run_idx\n",
      "    object   hostname\n",
      "    object   uid\n",
      "    object   block_id\n",
      "    object   cpu_count\n",
      "    object   total_memory\n",
      "    object   active\n",
      "    object   worker_count\n",
      "    object   python_v\n",
      "    object   timestamp\n",
      "    object   last_heartbeat\n",
      "*******************************************************\n",
      "Table block has 682 rows and 6 columns\n",
      "Column names:\n",
      "     int64   run_idx\n",
      "    object   executor_label\n",
      "    object   block_id\n",
      "    object   job_id\n",
      "   float64   timestamp\n",
      "    object   status\n",
      "*******************************************************\n",
      "Table status has 10795 rows and 6 columns\n",
      "Column names:\n",
      "     int64   task_id\n",
      "     int64   task_idx\n",
      "    object   task_status_name\n",
      "   float64   timestamp\n",
      "     int64   run_idx\n",
      "     int64   try_id\n",
      "*******************************************************\n",
      "Table resource has 45107 rows and 16 columns\n",
      "Column names:\n",
      "     int64   try_id\n",
      "     int64   task_id\n",
      "     int64   task_idx\n",
      "     int64   run_idx\n",
      "   float64   timestamp\n",
      "   float64   resource_monitoring_interval\n",
      "     int64   psutil_process_pid\n",
      "   float64   psutil_process_memory_percent\n",
      "   float64   psutil_process_children_count\n",
      "   float64   psutil_process_time_user\n",
      "   float64   psutil_process_time_system\n",
      "   float64   psutil_process_memory_virtual\n",
      "   float64   psutil_process_memory_resident\n",
      "   float64   psutil_process_disk_read\n",
      "   float64   psutil_process_disk_write\n",
      "    object   psutil_process_status\n",
      "*******************************************************\n",
      "Table procsum has 1013 rows and 12 columns\n",
      "Column names:\n",
      "   float64   timestamp\n",
      "     int64   nval\n",
      "     int64   nproc\n",
      "   float64   run_idx\n",
      "   float64   procsum_memory_percent\n",
      "   float64   procsum_memory_resident\n",
      "   float64   procsum_memory_virtual\n",
      "   float64   procsum_time_clock\n",
      "   float64   procsum_time_user\n",
      "   float64   procsum_time_system\n",
      "   float64   procsum_disk_read\n",
      "   float64   procsum_disk_write\n",
      "*******************************************************\n",
      "Table procsumDelta has 1013 rows and 12 columns\n",
      "Column names:\n",
      "   float64   timestamp\n",
      "     int64   nval\n",
      "     int64   nproc\n",
      "   float64   run_idx\n",
      "   float64   procsum_memory_percent\n",
      "   float64   procsum_memory_resident\n",
      "   float64   procsum_memory_virtual\n",
      "   float64   procsum_time_clock\n",
      "   float64   procsum_time_user\n",
      "   float64   procsum_time_system\n",
      "   float64   procsum_disk_read\n",
      "   float64   procsum_disk_write\n",
      "*******************************************************\n"
     ]
    }
   ],
   "source": [
    "dbr = desc.wfmon.MonDbReader(dirProc + 'monitoring.db', dodelta=True)\n",
    "print(line)\n",
    "dbr.tables(2)"
   ]
  },
  {
   "cell_type": "markdown",
   "id": "5db6f8d8-ba2b-49a1-af16-acf497d772ed",
   "metadata": {},
   "source": [
    "## procsum\n",
    "Look at the procsum table"
   ]
  },
  {
   "cell_type": "code",
   "execution_count": 5,
   "id": "b47832bf-27b3-4305-8752-e83285e1bcc5",
   "metadata": {},
   "outputs": [
    {
     "name": "stdout",
     "output_type": "stream",
     "text": [
      "80\n"
     ]
    }
   ],
   "source": [
    "psm = dbr.table(\"procsumDelta\")\n",
    "print(pandas.get_option('display.width'))\n",
    "pandas.set_option('display.width', 160)\n",
    "pandas.set_option('display.max_columns', 20)\n",
    "#print(psm)"
   ]
  },
  {
   "cell_type": "code",
   "execution_count": 6,
   "id": "996e5eae-d2da-43d7-8079-046f995a66da",
   "metadata": {},
   "outputs": [
    {
     "name": "stdout",
     "output_type": "stream",
     "text": [
      "       timestamp  psutil_process_time_user\n",
      "39365        NaN                       NaN\n",
      "39391   3.000142                      0.30\n",
      "39444   2.918900                      2.65\n",
      "39483   3.056829                      2.81\n",
      "39534   2.956895                      2.47\n",
      "39586   3.057568                      2.03\n",
      "39611   2.972936                      2.85\n",
      "39656   2.964260                      2.84\n",
      "39704   3.061438                      2.87\n",
      "39752   3.021259                      3.21\n",
      "39819   2.976374                      3.11\n",
      "39865   2.997954                      3.14\n",
      "39883   3.017583                      3.20\n",
      "39961   3.000769                      3.18\n",
      "40006   2.938535                      3.03\n",
      "40064   3.289375                      3.63\n",
      "40119   2.772324                      2.95\n",
      "40173   2.995155                      2.91\n",
      "40209   3.001769                      3.00\n",
      "40255   3.001591                      2.89\n",
      "40300   2.937762                      3.03\n",
      "40358   3.011070                      3.14\n",
      "40405   3.055225                      3.24\n",
      "40446   2.998613                      3.17\n",
      "40490   2.980296                      3.13\n",
      "40563   3.013717                      3.18\n",
      "40616   2.994219                      3.16\n",
      "40663   2.998613                      3.14\n",
      "40718   2.998268                      3.15\n",
      "40748   2.996932                      3.08\n",
      "40791   3.000011                      2.87\n",
      "40839   3.009124                      3.14\n",
      "40889   2.994838                      3.15\n",
      "40950   2.997923                      3.14\n",
      "40990   2.948878                      3.03\n",
      "41041   3.188419                      3.53\n",
      "41076   2.857641                      3.00\n",
      "41111   2.999672                      2.94\n",
      "41167   2.935394                      2.63\n",
      "41189   2.911771                      0.14\n"
     ]
    }
   ],
   "source": [
    "taskid=255\n",
    "olddf = dbr.table('resource').query(f\"task_id=={taskid}\")[['timestamp', 'psutil_process_time_user']].sort_values(by=['timestamp'])\n",
    "print(olddf.diff())\n",
    "#print(dbr.table('resource').query('task_id==255')['timestamp'].sort_values())"
   ]
  },
  {
   "cell_type": "code",
   "execution_count": 7,
   "id": "272bb989-665f-4aa5-8f9f-3ed064c7b4bc",
   "metadata": {},
   "outputs": [
    {
     "name": "stdout",
     "output_type": "stream",
     "text": [
      "0 0.28937506675720215\n",
      "toff = 0, maxdif = 0.28937506675720215\n"
     ]
    }
   ],
   "source": [
    "taskid = 255\n",
    "dt = 1\n",
    "toff = 0\n",
    "dtoff = 0.1\n",
    "maxdif = 0\n",
    "while len(olddf) > 2:\n",
    "        maxdif = max(olddf.timestamp.add(toff).mod(dt).diff()[2:].abs())\n",
    "        print(toff, maxdif)\n",
    "        if maxdif < dt/2.: break\n",
    "        if toff > dt/2 + 1:\n",
    "            print(f\"\"\"WARNING: Unable to find offset for run task {taskid}. Using 0.0.\"\"\")\n",
    "            toff = 0.0\n",
    "            break\n",
    "        toff = toff + dtoff\n",
    "print(f\"toff = {toff}, maxdif = {maxdif}\")"
   ]
  },
  {
   "cell_type": "code",
   "execution_count": 8,
   "id": "2b0d4b95-a65f-486a-9abc-35b3d6bdc1c7",
   "metadata": {},
   "outputs": [
    {
     "name": "stdout",
     "output_type": "stream",
     "text": [
      "      timestamp  run_idx  task_idx  task_id  try_id  toff  procsum_time_clock  nsam  isam  proc_pid proc_status  proc_memory_percent  proc_memory_resident  \\\n",
      "0   2505.321951        0         1      255       0   0.0            0.205561    40     0     29066    sleeping             0.340255          4.595507e+08   \n",
      "1   2508.322093        0         1      255       0   0.0            3.205703    40     1     29066    sleeping             0.343270          4.636221e+08   \n",
      "2   2511.240993        0         1      255       0   0.0            6.124603    40     2     29066    sleeping             0.424352          5.731328e+08   \n",
      "3   2514.297822        0         1      255       0   0.0            9.181432    40     3     29066    sleeping             0.500622          6.761431e+08   \n",
      "4   2517.254717        0         1      255       0   0.0           12.138327    40     4     29066    sleeping             0.577917          7.805379e+08   \n",
      "5   2520.312285        0         1      255       0   0.0           15.195895    40     5     29066    sleeping             0.595752          8.046264e+08   \n",
      "6   2523.285221        0         1      255       0   0.0           18.168831    40     6     29066    sleeping             0.798010          1.077797e+09   \n",
      "7   2526.249481        0         1      255       0   0.0           21.133091    40     7     29066    sleeping             0.925881          1.250771e+09   \n",
      "8   2529.310919        0         1      255       0   0.0           24.194529    40     8     29066    sleeping             0.801607          1.082655e+09   \n",
      "9   2532.332178        0         1      255       0   0.0           27.215788    40     9     29066    sleeping             0.757648          1.023283e+09   \n",
      "10  2535.308552        0         1      255       0   0.0           30.192162    40    10     29066    sleeping             0.758849          1.024905e+09   \n",
      "11  2538.306506        0         1      255       0   0.0           33.190116    40    11     29066    sleeping             0.758849          1.024905e+09   \n",
      "12  2541.324089        0         1      255       0   0.0           36.207699    40    12     29066    sleeping             0.759043          1.025167e+09   \n",
      "13  2544.324858        0         1      255       0   0.0           39.208468    40    13     29066    sleeping             0.759467          1.025741e+09   \n",
      "14  2547.263393        0         1      255       0   0.0           42.147003    40    14     29066    sleeping             0.759467          1.025741e+09   \n",
      "15  2550.552768        0         1      255       0   0.0           45.436378    40    15     29066    sleeping             0.759713          1.026073e+09   \n",
      "16  2553.325092        0         1      255       0   0.0           48.208702    40    16     29066    sleeping             0.759907          1.026335e+09   \n",
      "17  2556.320247        0         1      255       0   0.0           51.203857    40    17     29066    sleeping             0.782110          1.056322e+09   \n",
      "18  2559.322016        0         1      255       0   0.0           54.205626    40    18     29066    sleeping             0.975263          1.317196e+09   \n",
      "19  2562.323607        0         1      255       0   0.0           57.207217    40    19     29066    sleeping             0.783104          1.057665e+09   \n",
      "20  2565.261369        0         1      255       0   0.0           60.144979    40    20     29066    sleeping             0.783298          1.057927e+09   \n",
      "21  2568.272439        0         1      255       0   0.0           63.156049    40    21     29066    sleeping             0.783298          1.057927e+09   \n",
      "22  2571.327664        0         1      255       0   0.0           66.211274    40    22     29066    sleeping             0.783492          1.058189e+09   \n",
      "23  2574.326277        0         1      255       0   0.0           69.209887    40    23     29066    sleeping             0.783298          1.057927e+09   \n",
      "24  2577.306573        0         1      255       0   0.0           72.190183    40    24     29066    sleeping             0.783492          1.058189e+09   \n",
      "25  2580.320290        0         1      255       0   0.0           75.203900    40    25     29066    sleeping             0.783298          1.057927e+09   \n",
      "26  2583.314509        0         1      255       0   0.0           78.198119    40    26     29066    sleeping             0.783298          1.057927e+09   \n",
      "27  2586.313122        0         1      255       0   0.0           81.196732    40    27     29066    sleeping             0.783492          1.058189e+09   \n",
      "28  2589.311390        0         1      255       0   0.0           84.195000    40    28     29066    sleeping             0.783298          1.057927e+09   \n",
      "29  2592.308322        0         1      255       0   0.0           87.191932    40    29     29066    sleeping             0.832859          1.124864e+09   \n",
      "30  2595.308333        0         1      255       0   0.0           90.191943    40    30     29066    sleeping             0.784602          1.059688e+09   \n",
      "31  2598.317457        0         1      255       0   0.0           93.201067    40    31     29066    sleeping             0.784602          1.059688e+09   \n",
      "32  2601.312295        0         1      255       0   0.0           96.195905    40    32     29066    sleeping             0.784797          1.059951e+09   \n",
      "33  2604.310218        0         1      255       0   0.0           99.193828    40    33     29066    sleeping             0.784602          1.059688e+09   \n",
      "34  2607.259096        0         1      255       0   0.0          102.142706    40    34     29066    sleeping             0.784602          1.059688e+09   \n",
      "35  2610.447515        0         1      255       0   0.0          105.331125    40    35     29066    sleeping             0.784602          1.059688e+09   \n",
      "36  2613.305156        0         1      255       0   0.0          108.188766    40    36     29066    sleeping             0.784408          1.059426e+09   \n",
      "37  2616.304828        0         1      255       0   0.0          111.188438    40    37     29066    sleeping             0.834118          1.126564e+09   \n",
      "38  2619.240222        0         1      255       0   0.0          114.123832    40    38     29066    sleeping             0.834154          1.126613e+09   \n",
      "39  2622.151993        0         1      255       0   0.0          117.035603    40    39     29066    sleeping             0.333656          4.506378e+08   \n",
      "\n",
      "    proc_memory_virtual  proc_children_count  proc_time_user  proc_time_system  proc_disk_read  proc_disk_write  \n",
      "0          1.546146e+09                  4.0            6.90              2.25      53420917.0        7762578.0  \n",
      "1          1.436971e+09                  4.0            7.20              2.41     272700954.0      211720880.0  \n",
      "2          1.750893e+09                  4.0            9.85              2.75     294670305.0      211721949.0  \n",
      "3          1.876464e+09                  4.0           12.66              2.97     317928057.0      211723011.0  \n",
      "4          2.113716e+09                  4.0           15.13              3.17     342192299.0      211724302.0  \n",
      "5          2.209620e+09                  4.0           17.16              3.41     358865854.0      211730225.0  \n",
      "6          2.473693e+09                  4.0           20.01              3.70     456858232.0      211731289.0  \n",
      "7          2.685657e+09                  4.0           22.85              3.95     459235345.0      211736706.0  \n",
      "8          2.478809e+09                  4.0           25.72              4.35     461580578.0      211739582.0  \n",
      "9          2.414969e+09                  4.0           28.93              4.41     463930889.0      211741468.0  \n",
      "10         2.416538e+09                  4.0           32.04              4.46     466283486.0      211742532.0  \n",
      "11         2.416538e+09                  4.0           35.18              4.53     468633523.0      211743596.0  \n",
      "12         2.416800e+09                  4.0           38.38              4.58     470981861.0      211744660.0  \n",
      "13         2.417062e+09                  4.0           41.56              4.62     473330172.0      211745724.0  \n",
      "14         2.417062e+09                  4.0           44.59              4.67     475679464.0      211746788.0  \n",
      "15         2.417062e+09                  4.0           48.22              4.78     478027428.0      211747852.0  \n",
      "16         2.417324e+09                  4.0           51.17              4.83     480372776.0      211748916.0  \n",
      "17         2.446164e+09                  4.0           54.08              5.14     482719772.0      211759525.0  \n",
      "18         2.707046e+09                  4.0           57.08              5.35     485060933.0      211764091.0  \n",
      "19         2.447475e+09                  4.0           59.97              5.70     487401933.0      211767789.0  \n",
      "20         2.447737e+09                  4.0           63.00              5.74     489745976.0      211768853.0  \n",
      "21         2.447737e+09                  4.0           66.14              5.78     492095303.0      211769917.0  \n",
      "22         2.447999e+09                  4.0           69.38              5.84     494442726.0      211770981.0  \n",
      "23         2.447737e+09                  4.0           72.55              5.89     496792331.0      211772045.0  \n",
      "24         2.447999e+09                  4.0           75.68              5.94     499142847.0      211773109.0  \n",
      "25         2.447737e+09                  4.0           78.86              5.99     501491129.0      211774173.0  \n",
      "26         2.447737e+09                  4.0           82.02              6.03     503838302.0      211775237.0  \n",
      "27         2.447999e+09                  4.0           85.16              6.09     506182497.0      211776301.0  \n",
      "28         2.447737e+09                  4.0           88.31              6.15     508522972.0      211777365.0  \n",
      "29         2.516849e+09                  4.0           91.39              6.27     510865917.0      211782648.0  \n",
      "30         2.449474e+09                  4.0           94.26              6.61     513201542.0      211787003.0  \n",
      "31         2.449474e+09                  4.0           97.40              6.68     515540277.0      211788067.0  \n",
      "32         2.449736e+09                  4.0          100.55              6.74     517876379.0      211789131.0  \n",
      "33         2.449474e+09                  4.0          103.69              6.80     520214466.0      211790195.0  \n",
      "34         2.449474e+09                  4.0          106.72              6.84     522548530.0      211791259.0  \n",
      "35         2.449474e+09                  4.0          110.25              6.87     524882985.0      211792323.0  \n",
      "36         2.449211e+09                  4.0          113.25              6.92     527216680.0      211793387.0  \n",
      "37         2.515759e+09                  4.0          116.19              7.08     579371512.0      226219220.0  \n",
      "38         2.515759e+09                  4.0          118.82              7.48     582482455.0      297428284.0  \n",
      "39         1.384378e+09                  1.0          118.96              7.54     598063499.0      324097243.0  \n"
     ]
    }
   ],
   "source": [
    "print(dbr.taskproc(0, 255, False))"
   ]
  },
  {
   "cell_type": "code",
   "execution_count": 9,
   "id": "10786c2d-63c4-41f3-b598-ff07d7431b32",
   "metadata": {},
   "outputs": [
    {
     "name": "stdout",
     "output_type": "stream",
     "text": [
      "0     2505.321951\n",
      "1     2508.322093\n",
      "2     2511.240993\n",
      "3     2514.297822\n",
      "4     2517.254717\n",
      "5     2520.312285\n",
      "6     2523.285221\n",
      "7     2526.249481\n",
      "8     2529.310919\n",
      "9     2532.332178\n",
      "10    2535.308552\n",
      "11    2538.306506\n",
      "12    2541.324089\n",
      "13    2544.324858\n",
      "14    2547.263393\n",
      "15    2550.552768\n",
      "16    2553.325092\n",
      "17    2556.320247\n",
      "18    2559.322016\n",
      "19    2562.323607\n",
      "20    2565.261369\n",
      "21    2568.272439\n",
      "22    2571.327664\n",
      "23    2574.326277\n",
      "24    2577.306573\n",
      "25    2580.320290\n",
      "26    2583.314509\n",
      "27    2586.313122\n",
      "28    2589.311390\n",
      "29    2592.308322\n",
      "30    2595.308333\n",
      "31    2598.317457\n",
      "32    2601.312295\n",
      "33    2604.310218\n",
      "34    2607.259096\n",
      "35    2610.447515\n",
      "36    2613.305156\n",
      "37    2616.304828\n",
      "38    2619.240222\n",
      "39    2622.151993\n",
      "Name: timestamp, dtype: float64\n"
     ]
    }
   ],
   "source": [
    "if dbr.taskproc(0,255) is not None: print(dbr.taskproc(0,255)['timestamp'])"
   ]
  },
  {
   "cell_type": "code",
   "execution_count": 10,
   "id": "2f7622d8-16fc-431c-a339-769f101c1c0e",
   "metadata": {},
   "outputs": [
    {
     "name": "stdout",
     "output_type": "stream",
     "text": [
      "     timestamp  run_idx  task_idx  task_id  try_id  toff  procdel_time_clock  nsam  isam  proc_pid proc_status  proc_memory_percent  proc_memory_resident  \\\n",
      "0    16.509398        0         0       33       0   0.0            0.130108    34     0      5483  disk-sleep             0.334621          4.522435e+08   \n",
      "1    19.522582        0         0       33       0   0.0            3.013184    34     1      5483    sleeping             0.335852          4.536033e+08   \n",
      "2    22.488565        0         0       33       0   0.0            2.965983    34     2      5483    sleeping             0.353642          4.776305e+08   \n",
      "3    25.493738        0         0       33       0   0.0            3.005173    34     3      5483    sleeping             0.374910          5.063557e+08   \n",
      "4    28.570818        0         0       33       0   0.0            3.077080    34     4      5483    sleeping             0.420977          5.685740e+08   \n",
      "5    31.493333        0         0       33       0   0.0            2.922515    34     5      5483    sleeping             0.444984          6.009979e+08   \n",
      "6    34.492809        0         0       33       0   0.0            2.999476    34     6      5483    sleeping             0.445372          6.015222e+08   \n",
      "7    37.493236        0         0       33       0   0.0            3.000427    34     7      5483    sleeping             0.445964          6.023209e+08   \n",
      "8    40.529986        0         0       33       0   0.0            3.036750    34     8      5483    sleeping             0.487466          6.583747e+08   \n",
      "9    43.492896        0         0       33       0   0.0            2.962910    34     9      5483    sleeping             0.502739          6.790021e+08   \n",
      "10   46.524997        0         0       33       0   0.0            3.032101    34    10      5483    sleeping             0.562926          7.602913e+08   \n",
      "11   49.501059        0         0       33       0   0.0            2.976062    34    11      5483    sleeping             0.590054          7.969300e+08   \n",
      "12   52.509996        0         0       33       0   0.0            3.008937    34    12      5483    sleeping             0.692820          9.357271e+08   \n",
      "13   55.580129        0         0       33       0   0.0            3.070133    34    13      5483    sleeping             0.754084          1.018470e+09   \n",
      "14   58.508078        0         0       33       0   0.0            2.927949    34    14      5483    sleeping             0.851562          1.150124e+09   \n",
      "15   61.672779        0         0       33       0   0.0            3.164701    34    15      5483    sleeping             0.904774          1.221992e+09   \n",
      "16   64.498616        0         0       33       0   0.0            2.825837    34    16      5483    sleeping             0.999846          1.350398e+09   \n",
      "17   67.499964        0         0       33       0   0.0            3.001348    34    17      5483    sleeping             1.036839          1.400361e+09   \n",
      "18   70.496288        0         0       33       0   0.0            2.996324    34    18      5483    sleeping             1.116876          1.508458e+09   \n",
      "19   73.518331        0         0       33       0   0.0            3.022043    34    19      5483    sleeping             1.389744          1.876996e+09   \n",
      "20   76.600132        0         0       33       0   0.0            3.081801    34    20      5483    sleeping             1.541080          2.081391e+09   \n",
      "21   79.598277        0         0       33       0   0.0            2.998145    34    21      5483    sleeping             1.541080          2.081391e+09   \n",
      "22   82.592789        0         0       33       0   0.0            2.994512    34    22      5483    sleeping             1.528442          2.064593e+09   \n",
      "23   85.589147        0         0       33       0   0.0            2.996358    34    23      5483    sleeping             1.885602          2.546704e+09   \n",
      "24   88.573442        0         0       33       0   0.0            2.984295    34    24      5483    sleeping             1.885602          2.546704e+09   \n",
      "25   91.567014        0         0       33       0   0.0            2.993572    34    25      5483    sleeping             2.269395          3.065057e+09   \n",
      "26   94.567097        0         0       33       0   0.0            3.000083    34    26      5483    sleeping             2.269595          3.065328e+09   \n",
      "27   97.568988        0         0       33       0   0.0            3.001891    34    27      5483    sleeping             2.269595          3.065328e+09   \n",
      "28  100.587662        0         0       33       0   0.0            3.018674    34    28      5483    sleeping             2.269595          3.065328e+09   \n",
      "29  103.567342        0         0       33       0   0.0            2.979680    34    29      5483    sleeping             2.269595          3.065328e+09   \n",
      "30  106.571533        0         0       33       0   0.0            3.004191    34    30      5483    sleeping             1.693234          2.286891e+09   \n",
      "31  109.579040        0         0       33       0   0.0            3.007507    34    31      5483    sleeping             1.415731          1.912095e+09   \n",
      "32  112.529534        0         0       33       0   0.0            2.950494    34    32      5483    sleeping             0.805740          1.088238e+09   \n",
      "33  112.904063        0         0       33       0   0.0            0.374529    34    33      5483    sleeping             0.333586          4.505436e+08   \n",
      "\n",
      "    proc_memory_virtual  procdel_children_count  procdel_time_user  procdel_time_system  procdel_disk_read  procdel_disk_write  \n",
      "0          1.410441e+09                     3.0               4.75                 2.21         50701274.0           5005819.0  \n",
      "1          1.406624e+09                     0.0               0.14                 0.08        212641066.0         206655819.0  \n",
      "2          1.452110e+09                     1.0               0.58                 0.10          8254955.0             11842.0  \n",
      "3          1.525567e+09                     0.0               0.63                 0.71         12880242.0             47858.0  \n",
      "4          1.747087e+09                     0.0               1.39                 0.85         13447061.0              1067.0  \n",
      "5          1.781469e+09                     0.0               1.16                 1.16          9269618.0              1060.0  \n",
      "6          1.781993e+09                     0.0               0.14                 1.15          2377495.0              1060.0  \n",
      "7          1.782780e+09                     0.0               0.14                 1.85          2353024.0              1060.0  \n",
      "8          1.857602e+09                     0.0               1.00                 1.26          9302291.0              1060.0  \n",
      "9          1.880711e+09                     0.0               1.14                 0.17         17684159.0              1060.0  \n",
      "10         2.085581e+09                     0.0               1.74                 0.18         19804930.0              1456.0  \n",
      "11         2.222150e+09                     0.0               0.87                 0.18         35412472.0              3800.0  \n",
      "12         2.352722e+09                     0.0               0.88                 0.26         67311415.0              1062.0  \n",
      "13         2.424836e+09                     0.0               0.96                 0.21         57859606.0              1062.0  \n",
      "14         2.555146e+09                     0.0               0.75                 0.23         53704580.0              1062.0  \n",
      "15         2.620301e+09                     0.0               0.71                 0.22         61888087.0              1062.0  \n",
      "16         2.750611e+09                     0.0               0.67                 0.18         55097277.0              1062.0  \n",
      "17         2.787922e+09                     0.0               2.65                 0.04         13776477.0              1062.0  \n",
      "18         2.898784e+09                     0.0               2.45                 0.08         15891677.0              1062.0  \n",
      "19         3.263820e+09                     0.0               2.39                 0.23         21726442.0              3211.0  \n",
      "20         3.467690e+09                     0.0               3.16                 0.21          2321715.0              2504.0  \n",
      "21         3.467690e+09                     0.0               3.15                 0.07          2319458.0              1062.0  \n",
      "22         3.467690e+09                     0.0               3.06                 0.18          2319474.0              2500.0  \n",
      "23         3.932410e+09                     0.0               2.74                 0.48          2319468.0              1913.0  \n",
      "24         3.932410e+09                     0.0               3.11                 0.05          2318222.0              1064.0  \n",
      "25         4.450226e+09                     0.0               2.78                 0.40          2316735.0              1064.0  \n",
      "26         4.450226e+09                     0.0               3.11                 0.08          2315619.0              1064.0  \n",
      "27         4.450226e+09                     0.0               3.14                 0.05          2315964.0              1064.0  \n",
      "28         4.450226e+09                     0.0               2.81                 0.46          2317676.0              1064.0  \n",
      "29         4.450226e+09                     0.0               3.10                 0.05          2318812.0              1064.0  \n",
      "30         3.671790e+09                     0.0               2.54                 0.66          2319287.0              5543.0  \n",
      "31         3.296666e+09                     0.0               2.69                 0.51          2667278.0          44403985.0  \n",
      "32         2.472595e+09                     0.0               2.66                 0.35         16016976.0          47300102.0  \n",
      "33         1.384374e+09                    -3.0               0.14                 0.05          2314274.0              1115.0  \n"
     ]
    }
   ],
   "source": [
    "print(dbr.taskproc(0,33))"
   ]
  },
  {
   "cell_type": "code",
   "execution_count": 11,
   "id": "88451efe-fa4b-4965-8f73-4f0fae46ae44",
   "metadata": {},
   "outputs": [
    {
     "data": {
      "image/png": "[encoded data removed]",
      "text/plain": [
       "<Figure size 1440x360 with 1 Axes>"
      ]
     },
     "metadata": {
      "needs_background": "light"
     },
     "output_type": "display_data"
    }
   ],
   "source": [
    "pdx = 20\n",
    "pdy = 5\n",
    "minute = 60\n",
    "hour = 3600\n",
    "day = 24*hour\n",
    "tunit = minute\n",
    "stunit = 'minute'\n",
    "t0sec = dbr.t0\n",
    "delt = dbr.monitoring_interval\n",
    "deltsys = (max(sym.time) - min(sym.time))/float(len(sym) - 1)\n",
    "tmin = 0\n",
    "tmax = 60\n",
    "\n",
    "psm = dbr.table('procsum')\n",
    "psm['tfix'] = psm.timestamp/tunit\n",
    "sym['tfix'] = (sym.time - t0sec)/tunit\n",
    "plt.figure(figsize=(pdx, pdy))\n",
    "plt.plot(sym.tfix, sym.cpu_percent, '.', color='orange')\n",
    "plt.plot(psm.tfix, 100*(psm.procsum_time_user+psm.procsum_time_system)/psm.procsum_time_clock, 'b+')\n",
    "plt.xlabel(f\"Time [{stunit}]\")\n",
    "plt.ylabel('CPU efficiency [%]')\n",
    "plt.grid(True)\n",
    "junk = plt.axis([tmin, tmax, 0, 200])"
   ]
  },
  {
   "cell_type": "code",
   "execution_count": 12,
   "id": "16087843-898a-4bf4-88b0-4115cb0706b0",
   "metadata": {},
   "outputs": [
    {
     "data": {
      "image/png": "[encoded data removed]",
      "text/plain": [
       "<Figure size 1440x360 with 1 Axes>"
      ]
     },
     "metadata": {
      "needs_background": "light"
     },
     "output_type": "display_data"
    }
   ],
   "source": [
    "plt.figure(figsize=(pdx, pdy))\n",
    "plt.hist(bins=150, range=(0,150), x=psm.procsum_time_clock)\n",
    "plt.xlabel(f\"Time [sec]\")\n",
    "plt.grid(True)\n",
    "junk = plt.axis([tmin, 150, 0, 200])"
   ]
  },
  {
   "cell_type": "code",
   "execution_count": 13,
   "id": "072bd985-af01-4a83-8871-7830f8ede60d",
   "metadata": {},
   "outputs": [
    {
     "name": "stdout",
     "output_type": "stream",
     "text": [
      "Maximum number of tries is 0\n"
     ]
    }
   ],
   "source": [
    "print(f\"Maximum number of tries is {dbr.table('try')['try_id'].max()}\")"
   ]
  },
  {
   "cell_type": "code",
   "execution_count": 15,
   "id": "65c85c8d-3bc5-4b8e-aae8-3b21444481e6",
   "metadata": {},
   "outputs": [
    {
     "name": "stdout",
     "output_type": "stream",
     "text": [
      "       task_id  task_idx task_status_name    timestamp  run_idx  try_id\n",
      "0            0         0          pending     0.034317        0       0\n",
      "1            0         0         launched     0.060828        0       0\n",
      "2            1         1          pending     0.064697        0       0\n",
      "3            2         2          pending     0.065994        0       0\n",
      "4            3         0          pending     0.068076        0       0\n",
      "...        ...       ...              ...          ...      ...     ...\n",
      "10790     2158         9         launched  3058.537503        0       0\n",
      "10791     2036         8        exec_done  3058.539754        0       0\n",
      "10792     2158         9          running  3066.049174        0       0\n",
      "10793     2158         9    running_ended  3085.443784        0       0\n",
      "10794     2158         9        exec_done  3090.960856        0       0\n",
      "\n",
      "[10795 rows x 6 columns]\n",
      "{'pending', 'launched', 'exec_done', 'running', 'running_ended'}\n"
     ]
    }
   ],
   "source": [
    "sta = dbr.table('status')\n",
    "print(sta)\n",
    "print(set(sta.task_status_name))"
   ]
  },
  {
   "cell_type": "code",
   "execution_count": null,
   "id": "bf17351d-3668-418b-abc6-f3644ae92456",
   "metadata": {},
   "outputs": [],
   "source": []
  }
 ],
 "metadata": {
  "kernelspec": {
   "display_name": "NERSC Python",
   "language": "python",
   "name": "python3"
  },
  "language_info": {
   "codemirror_mode": {
    "name": "ipython",
    "version": 3
   },
   "file_extension": ".py",
   "mimetype": "text/x-python",
   "name": "python",
   "nbconvert_exporter": "python",
   "pygments_lexer": "ipython3",
   "version": "3.9.7"
  },
  "toc-autonumbering": false
 },
 "nbformat": 4,
 "nbformat_minor": 5
}
