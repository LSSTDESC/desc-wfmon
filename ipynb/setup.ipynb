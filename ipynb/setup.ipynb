{
 "cells": [
  {
   "cell_type": "markdown",
   "id": "6b569887-743e-4ff1-8d76-c5d4f549b0dc",
   "metadata": {
    "tags": []
   },
   "source": [
    "# setup.py: Setup a local installation of desc-wfmon\n",
    "\n",
    "David Adams  \n",
    "March 2022\n",
    "\n",
    "Set up a local (./install) installation of desc-wfmon if it exist or install it if not."
   ]
  },
  {
   "cell_type": "code",
   "execution_count": 1,
   "id": "c4659582-8f7d-40fc-bef1-916456271164",
   "metadata": {},
   "outputs": [
    {
     "name": "stdout",
     "output_type": "stream",
     "text": [
      "cori13:/global/u2/d/dladams/desc/dev/desc-wfmon/ipynb: Wed Mar 23 13:58:11 PDT 2022\n",
      "Setting up desc-wfmon\n"
     ]
    }
   ],
   "source": [
    "!echo $(hostname):$(pwd): $(date)\n",
    "print('Setting up desc-wfmon')\n",
    "\n",
    "import sys\n",
    "import os\n",
    "\n",
    "pkgdir = f\"{os.getenv('HOME')}/desc/dev/desc-wfmon\"\n",
    "supfil = 'install/setup.py'\n",
    "if os.path.exists(supfil):\n",
    "    %run $supfil\n",
    "else:\n",
    "    print('Installing up desc-wfmon')\n",
    "    %run $pkgdir/bootstrap.py"
   ]
  },
  {
   "cell_type": "markdown",
   "id": "d3b63ca3-f712-441a-bbbd-4a114850bde9",
   "metadata": {},
   "source": [
    "Next we check that modules of *desc-wfmon* have consistent versions and are installed in the expected location."
   ]
  },
  {
   "cell_type": "code",
   "execution_count": 2,
   "id": "b232104c-f8c5-4ce5-a388-ee804cf2afd2",
   "metadata": {},
   "outputs": [
    {
     "name": "stdout",
     "output_type": "stream",
     "text": [
      "Python version is 3.9.7 (default, Sep 16 2021, 13:09:58) \n",
      "[GCC 7.5.0]\n",
      "Python search path starts with ./install/noconda\n",
      "/global/u2/d/dladams/desc/dev/desc-wfmon/ipynb\n",
      "TestMonDbReader:ctor: Done.\n",
      "<module 'desc.wfmon' from '/global/u2/d/dladams/desc/dev/desc-wfmon/ipynb/./install/noconda/desc/wfmon/__init__.py'> version is 0.0.18\n",
      "<module 'desc.sysmon' from '/global/u2/d/dladams/desc/dev/desc-wfmon/ipynb/./install/noconda/desc/sysmon/__init__.py'> version is 0.0.18\n",
      "cori13: Wed Mar 23 13:58:12 PDT 2022\n"
     ]
    }
   ],
   "source": [
    "import sys\n",
    "print(f\"Python version is {sys.version}\")\n",
    "print(f\"Python search path starts with {sys.path[0]}\")\n",
    "!pwd\n",
    "import desc.wfmon\n",
    "import desc.sysmon\n",
    "for pkg in [desc.wfmon, desc.sysmon]:\n",
    "    print(f\"{pkg} version is {pkg.__version__}\")\n",
    "!echo $(hostname): $(date)"
   ]
  },
  {
   "cell_type": "code",
   "execution_count": null,
   "id": "83e1767c-d280-4bb1-8f9d-ab81855e94f9",
   "metadata": {},
   "outputs": [],
   "source": []
  }
 ],
 "metadata": {
  "kernelspec": {
   "display_name": "NERSC Python",
   "language": "python",
   "name": "python3"
  },
  "language_info": {
   "codemirror_mode": {
    "name": "ipython",
    "version": 3
   },
   "file_extension": ".py",
   "mimetype": "text/x-python",
   "name": "python",
   "nbconvert_exporter": "python",
   "pygments_lexer": "ipython3",
   "version": "3.9.7"
  },
  "toc-autonumbering": false,
  "toc-showcode": false,
  "toc-showmarkdowntxt": true,
  "toc-showtags": true
 },
 "nbformat": 4,
 "nbformat_minor": 5
}
