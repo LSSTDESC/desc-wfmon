{
 "cells": [
  {
   "cell_type": "markdown",
   "id": "6b569887-743e-4ff1-8d76-c5d4f549b0dc",
   "metadata": {
    "tags": []
   },
   "source": [
    "# Bootstrap install of desc-wfmon\n",
    "\n",
    "David Adams  \n",
    "March 2022\n",
    "\n",
    "This is a simple notebook to demonstrate use of desc.local to do a bootstrap installation of *desc-wfmon* in ./install. The bootstrap first removes the installation directory if already existing.  \n",
    "\n",
    "Run this note book to build or update in the local directory and then use the following in any other notebook to put this version of desc-wfmon at the fron of your python path:\n",
    "<pre>\n",
    "%run install/setup.py\n",
    "</pre>"
   ]
  },
  {
   "cell_type": "code",
   "execution_count": 1,
   "id": "c4659582-8f7d-40fc-bef1-916456271164",
   "metadata": {},
   "outputs": [
    {
     "name": "stdout",
     "output_type": "stream",
     "text": [
      "Installing desc-wfmon\n",
      "bootstrap: Installing descr-wfmon.\n",
      "Installing /global/homes/d/dladams/desc/dev/desc-wfmon at ./install/noconda\n",
      "Processing /global/homes/d/dladams/desc/dev/desc-wfmon\n"
     ]
    },
    {
     "name": "stderr",
     "output_type": "stream",
     "text": [
      "  DEPRECATION: A future pip version will change local packages to be built in-place without first copying to a temporary directory. We recommend you use --use-feature=in-tree-build to test your packages with this new behavior before it becomes the default.\n",
      "   pip 21.3 will remove support for this functionality. You can find discussion regarding this at https://github.com/pypa/pip/issues/7555.\n"
     ]
    },
    {
     "name": "stdout",
     "output_type": "stream",
     "text": [
      "  Installing build dependencies: started\n",
      "  Installing build dependencies: finished with status 'done'\n",
      "  Getting requirements to build wheel: started\n",
      "  Getting requirements to build wheel: finished with status 'done'\n",
      "    Preparing wheel metadata: started\n",
      "    Preparing wheel metadata: finished with status 'done'\n",
      "Building wheels for collected packages: desc-wfmon\n",
      "  Building wheel for desc-wfmon (PEP 517): started\n",
      "  Building wheel for desc-wfmon (PEP 517): finished with status 'done'\n",
      "  Created wheel for desc-wfmon: filename=desc_wfmon-0.0.15-py3-none-any.whl size=30425 sha256=40d2eda0efc0fe67d6fe3944b58abb524115d959e9d031882ab24fe1d9b8d800\n",
      "  Stored in directory: /global/u2/d/dladams/.cache/pip/wheels/8c/c4/a7/e0f7d35d0abda943febbfb967d473d73927ae1840007e59d62\n",
      "Successfully built desc-wfmon\n",
      "Installing collected packages: desc-wfmon\n",
      "Successfully installed desc-wfmon-0.0.15\n",
      "bootstrap: Package desc-wfmon is installed at ./install/noconda\n",
      "Done\n"
     ]
    }
   ],
   "source": [
    "print('Installing desc-wfmon')\n",
    "import sys\n",
    "import os\n",
    "\n",
    "# Set directory where desc-wfmon (https://github.com/LSSTDESC/desc-wfmon.git) is checked out.\n",
    "devdir = f\"{os.getenv('HOME')}/desc/dev\"\n",
    "\n",
    "pkgdir = f\"{devdir}/desc-wfmon\"\n",
    "bsfil = f\"{pkgdir}/bootstrap.py\"\n",
    "if not os.path.exists(bsfil):\n",
    "    print(f\"ERROR: Unable to find desc-wfmon bootstrap: {bsfil}\")\n",
    "\n",
    "# Run boostrap that build and install in ./install.\n",
    "%run $bsfil"
   ]
  },
  {
   "cell_type": "markdown",
   "id": "d3b63ca3-f712-441a-bbbd-4a114850bde9",
   "metadata": {},
   "source": [
    "Next we check that modules of *desc-wfmon* have consistent versions and are installed in the expected location."
   ]
  },
  {
   "cell_type": "code",
   "execution_count": 2,
   "id": "b232104c-f8c5-4ce5-a388-ee804cf2afd2",
   "metadata": {},
   "outputs": [
    {
     "name": "stdout",
     "output_type": "stream",
     "text": [
      "Python version is 3.9.7 (default, Sep 16 2021, 13:09:58) \n",
      "[GCC 7.5.0]\n",
      "Python search path starts with ./install/noconda\n",
      "/global/u2/d/dladams/desc/dev/desc-wfmon/ipynb\n",
      "<module 'desc.local' from '/global/u2/d/dladams/desc/dev/desc-wfmon/ipynb/./install/noconda/desc/local/__init__.py'> version is 0.0.15\n",
      "<module 'desc.wfmon' from '/global/u2/d/dladams/desc/dev/desc-wfmon/ipynb/./install/noconda/desc/wfmon/__init__.py'> version is 0.0.15\n",
      "<module 'desc.sysmon' from '/global/u2/d/dladams/desc/dev/desc-wfmon/ipynb/./install/noconda/desc/sysmon/__init__.py'> version is 0.0.15\n"
     ]
    }
   ],
   "source": [
    "import sys\n",
    "print(f\"Python version is {sys.version}\")\n",
    "print(f\"Python search path starts with {sys.path[0]}\")\n",
    "!pwd\n",
    "import desc.wfmon\n",
    "import desc.sysmon\n",
    "for pkg in [desc.local, desc.wfmon, desc.sysmon]:\n",
    "    print(f\"{pkg} version is {pkg.__version__}\")"
   ]
  }
 ],
 "metadata": {
  "kernelspec": {
   "display_name": "NERSC Python",
   "language": "python",
   "name": "python3"
  },
  "language_info": {
   "codemirror_mode": {
    "name": "ipython",
    "version": 3
   },
   "file_extension": ".py",
   "mimetype": "text/x-python",
   "name": "python",
   "nbconvert_exporter": "python",
   "pygments_lexer": "ipython3",
   "version": "3.9.7"
  },
  "toc-autonumbering": false,
  "toc-showcode": false,
  "toc-showmarkdowntxt": true,
  "toc-showtags": true
 },
 "nbformat": 4,
 "nbformat_minor": 5
}
