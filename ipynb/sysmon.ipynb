{
 "cells": [
  {
   "cell_type": "markdown",
   "id": "49b48175-5c43-4594-9243-25086a2cafec",
   "metadata": {},
   "source": [
    "# sysmon.ipynb\n",
    "\n",
    "Test sysmon.\n",
    "\n",
    "First make a bootstap install of desc-wfmon in the current directory."
   ]
  },
  {
   "cell_type": "code",
   "execution_count": 1,
   "id": "e0bb5644-d5ce-4455-81fe-04425627f4cc",
   "metadata": {},
   "outputs": [
    {
     "name": "stdout",
     "output_type": "stream",
     "text": [
      "bootstrap: Installing descr-wfmon.\n",
      "Installing /global/homes/d/dladams/desc/dev/desc-wfmon at ./install/noconda\n",
      "Processing /global/homes/d/dladams/desc/dev/desc-wfmon\n"
     ]
    },
    {
     "name": "stderr",
     "output_type": "stream",
     "text": [
      "  DEPRECATION: A future pip version will change local packages to be built in-place without first copying to a temporary directory. We recommend you use --use-feature=in-tree-build to test your packages with this new behavior before it becomes the default.\n",
      "   pip 21.3 will remove support for this functionality. You can find discussion regarding this at https://github.com/pypa/pip/issues/7555.\n"
     ]
    },
    {
     "name": "stdout",
     "output_type": "stream",
     "text": [
      "  Installing build dependencies: started\n",
      "  Installing build dependencies: finished with status 'done'\n",
      "  Getting requirements to build wheel: started\n",
      "  Getting requirements to build wheel: finished with status 'done'\n",
      "    Preparing wheel metadata: started\n",
      "    Preparing wheel metadata: finished with status 'done'\n",
      "Building wheels for collected packages: desc-wfmon\n",
      "  Building wheel for desc-wfmon (PEP 517): started\n",
      "  Building wheel for desc-wfmon (PEP 517): finished with status 'done'\n",
      "  Created wheel for desc-wfmon: filename=desc_wfmon-0.4.0.dev1-py3-none-any.whl size=34523 sha256=dae761513a6b896f9f77ffca95127e6a6c0dbb803a5dc5074b19da80f2f7d0ef\n",
      "  Stored in directory: /global/u2/d/dladams/.cache/pip/wheels/8c/c4/a7/e0f7d35d0abda943febbfb967d473d73927ae1840007e59d62\n",
      "Successfully built desc-wfmon\n",
      "Installing collected packages: desc-wfmon\n",
      "Successfully installed desc-wfmon-0.4.0.dev1\n",
      "bootstrap: Package desc-wfmon is installed at ./install/noconda\n",
      "Done\n"
     ]
    }
   ],
   "source": [
    "# Set up desc-wfmon, installing if needed in the local directory.\n",
    "import os\n",
    "insfile = 'install/setup.py'\n",
    "doinstall = not os.path.exists(insfile)\n",
    "if doinstall or True:\n",
    "    devdir = f\"{os.getenv('HOME')}/desc/dev\"\n",
    "    pkgdir = f\"{devdir}/desc-wfmon\"\n",
    "    bsfil = f\"{pkgdir}/bootstrap.py\"\n",
    "    if not os.path.exists(bsfil):\n",
    "        print(f\"ERROR: Unable to find desc-wfmon bootstrap: {bsfil}\")\n",
    "    # Run boostrap that build and install in ./install.\n",
    "    %run $bsfil\n",
    "%run {insfile}"
   ]
  },
  {
   "cell_type": "markdown",
   "id": "87347b89-8c53-44e9-ae6d-2f3ad63f92f2",
   "metadata": {},
   "source": [
    "Run the reporter and collect some data."
   ]
  },
  {
   "cell_type": "code",
   "execution_count": 2,
   "id": "99a307e8-df99-4527-afcb-ae524ad9bae6",
   "metadata": {},
   "outputs": [
    {
     "name": "stdout",
     "output_type": "stream",
     "text": [
      "sysmon.reporter: Starting reporter version 0.4.0.dev1\n",
      "sysmon.reporter: Monitor output file is mysysmon.csv\n",
      "sysmon.reporter: Log file is \n",
      "sysmon.reporter: Starting reporter version 0.4.0.dev1\n",
      "sysmon.reporter: Polling terminated because total time exceeded 10 sec.\n",
      "sysmon.reporter: Poll count is 5.\n",
      "sysmon.reporter: Done.\n"
     ]
    },
    {
     "data": {
      "text/plain": [
       "0"
      ]
     },
     "execution_count": 2,
     "metadata": {},
     "output_type": "execute_result"
    }
   ],
   "source": [
    "import desc.sysmon\n",
    "import pandas\n",
    "\n",
    "symfil = 'mysysmon.csv'\n",
    "frqfil = 'myfrqmon.csv'\n",
    "os.system(f\"rm -f {symfil}\")\n",
    "desc.sysmon.reporter(fnam=symfil, dt=1, timeout=10, frqfnam=frqfil)"
   ]
  },
  {
   "cell_type": "markdown",
   "id": "ec82ebb2-faa5-494e-a480-4b51ad67ce99",
   "metadata": {},
   "source": [
    "Read the data into a dataframe and display it."
   ]
  },
  {
   "cell_type": "code",
   "execution_count": 3,
   "id": "56dfb6e3-cdc9-4480-ba53-20d93b000cc8",
   "metadata": {},
   "outputs": [
    {
     "name": "stdout",
     "output_type": "stream",
     "text": [
      "           time  cpu_count  cpu_percent  cpu_freq  cpu_user  cpu_system  \\\n",
      "0  1.649445e+09       64.0         52.8  2521.190      0.00        0.00   \n",
      "1  1.649445e+09       64.0         31.5  2595.925     92.39       26.17   \n",
      "2  1.649445e+09       64.0         66.0  2609.507     72.66       13.09   \n",
      "3  1.649445e+09       64.0         93.9  2567.105    185.94       37.67   \n",
      "4  1.649445e+09       64.0         89.0  2567.668    195.71       34.72   \n",
      "\n",
      "   cpu_idle  cpu_iowait  cpu_time  mem_total  mem_available  mem_swapfree  \\\n",
      "0      0.00        0.00      0.00    503.048        164.059       156.607   \n",
      "1    121.28        0.01    240.01    503.048        163.375       155.922   \n",
      "2      4.64        0.00     90.42    503.048        163.232       155.777   \n",
      "3     26.38        0.00    250.27    503.048        163.396       155.945   \n",
      "4     19.35        0.00    249.87    503.048        163.097       155.644   \n",
      "\n",
      "   dio_readsize  dio_writesize  nio_readsize  nio_writesize  \n",
      "0           0.0          0.000         0.000          0.000  \n",
      "1           0.0          0.001         0.038          0.002  \n",
      "2           0.0          0.000         0.000          0.001  \n",
      "3           0.0          0.005         0.002          0.004  \n",
      "4           0.0          0.000         0.001          0.003  \n"
     ]
    },
    {
     "data": {
      "text/plain": [
       "0"
      ]
     },
     "execution_count": 3,
     "metadata": {},
     "output_type": "execute_result"
    }
   ],
   "source": [
    "sym = pandas.read_csv(symfil)\n",
    "print(sym)\n",
    "os.system(f\"rm -f {symfil}\")"
   ]
  }
 ],
 "metadata": {
  "kernelspec": {
   "display_name": "NERSC Python",
   "language": "python",
   "name": "python3"
  },
  "language_info": {
   "codemirror_mode": {
    "name": "ipython",
    "version": 3
   },
   "file_extension": ".py",
   "mimetype": "text/x-python",
   "name": "python",
   "nbconvert_exporter": "python",
   "pygments_lexer": "ipython3",
   "version": "3.9.7"
  }
 },
 "nbformat": 4,
 "nbformat_minor": 5
}
