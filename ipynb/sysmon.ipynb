{
 "cells": [
  {
   "cell_type": "markdown",
   "id": "49b48175-5c43-4594-9243-25086a2cafec",
   "metadata": {},
   "source": [
    "# sysmon.ipynb\n",
    "\n",
    "Test sysmon.\n",
    "\n",
    "First make a bootstap install of desc-wfmon in the current directory."
   ]
  },
  {
   "cell_type": "code",
   "execution_count": 1,
   "id": "e0bb5644-d5ce-4455-81fe-04425627f4cc",
   "metadata": {},
   "outputs": [
    {
     "name": "stdout",
     "output_type": "stream",
     "text": [
      "bootstrap: Installing descr-wfmon.\n",
      "Installing /global/homes/d/dladams/desc/dev/desc-wfmon at ./install/noconda\n",
      "Processing /global/homes/d/dladams/desc/dev/desc-wfmon\n"
     ]
    },
    {
     "name": "stderr",
     "output_type": "stream",
     "text": [
      "  DEPRECATION: A future pip version will change local packages to be built in-place without first copying to a temporary directory. We recommend you use --use-feature=in-tree-build to test your packages with this new behavior before it becomes the default.\n",
      "   pip 21.3 will remove support for this functionality. You can find discussion regarding this at https://github.com/pypa/pip/issues/7555.\n"
     ]
    },
    {
     "name": "stdout",
     "output_type": "stream",
     "text": [
      "  Installing build dependencies: started\n",
      "  Installing build dependencies: finished with status 'done'\n",
      "  Getting requirements to build wheel: started\n",
      "  Getting requirements to build wheel: finished with status 'done'\n",
      "    Preparing wheel metadata: started\n",
      "    Preparing wheel metadata: finished with status 'done'\n",
      "Building wheels for collected packages: desc-wfmon\n",
      "  Building wheel for desc-wfmon (PEP 517): started\n",
      "  Building wheel for desc-wfmon (PEP 517): finished with status 'done'\n",
      "  Created wheel for desc-wfmon: filename=desc_wfmon-0.4.1-py3-none-any.whl size=34475 sha256=4a1735e3969fe2c0a713f58c5ee72e36c5ff97b548be9ce04f58e6b4905d612e\n",
      "  Stored in directory: /global/u2/d/dladams/.cache/pip/wheels/8c/c4/a7/e0f7d35d0abda943febbfb967d473d73927ae1840007e59d62\n",
      "Successfully built desc-wfmon\n",
      "Installing collected packages: desc-wfmon\n",
      "Successfully installed desc-wfmon-0.4.1\n",
      "bootstrap: Package desc-wfmon is installed at ./install/noconda\n",
      "Done\n"
     ]
    }
   ],
   "source": [
    "# Set up desc-wfmon, installing if needed in the local directory.\n",
    "import os\n",
    "insfile = 'install/setup.py'\n",
    "doinstall = not os.path.exists(insfile)\n",
    "if doinstall or True:\n",
    "    devdir = f\"{os.getenv('HOME')}/desc/dev\"\n",
    "    pkgdir = f\"{devdir}/desc-wfmon\"\n",
    "    bsfil = f\"{pkgdir}/bootstrap.py\"\n",
    "    if not os.path.exists(bsfil):\n",
    "        print(f\"ERROR: Unable to find desc-wfmon bootstrap: {bsfil}\")\n",
    "    # Run boostrap that build and install in ./install.\n",
    "    %run $bsfil\n",
    "%run {insfile}"
   ]
  },
  {
   "cell_type": "markdown",
   "id": "87347b89-8c53-44e9-ae6d-2f3ad63f92f2",
   "metadata": {},
   "source": [
    "Run the reporter and collect some data."
   ]
  },
  {
   "cell_type": "code",
   "execution_count": 2,
   "id": "99a307e8-df99-4527-afcb-ae524ad9bae6",
   "metadata": {},
   "outputs": [
    {
     "name": "stdout",
     "output_type": "stream",
     "text": [
      "sysmon.reporter: Starting reporter version 0.4.1\n",
      "sysmon.reporter: Monitor output file is mysysmon.csv\n",
      "sysmon.reporter: Log file is \n",
      "sysmon.reporter: Starting reporter version 0.4.1\n",
      "sysmon.reporter: Polling terminated because total time exceeded 10 sec.\n",
      "sysmon.reporter: Poll count is 7.\n",
      "sysmon.reporter: Done.\n"
     ]
    },
    {
     "data": {
      "text/plain": [
       "0"
      ]
     },
     "execution_count": 2,
     "metadata": {},
     "output_type": "execute_result"
    }
   ],
   "source": [
    "import desc.sysmon\n",
    "import pandas\n",
    "\n",
    "symfil = 'mysysmon.csv'\n",
    "frqfil = 'myfrqmon.csv'\n",
    "os.system(f\"rm -f {symfil}\")\n",
    "desc.sysmon.reporter(fnam=symfil, dt=1, timeout=10, frqfnam=frqfil)"
   ]
  },
  {
   "cell_type": "markdown",
   "id": "ec82ebb2-faa5-494e-a480-4b51ad67ce99",
   "metadata": {},
   "source": [
    "Read the data into a dataframe and display it."
   ]
  },
  {
   "cell_type": "code",
   "execution_count": 3,
   "id": "56dfb6e3-cdc9-4480-ba53-20d93b000cc8",
   "metadata": {},
   "outputs": [
    {
     "name": "stdout",
     "output_type": "stream",
     "text": [
      "           time  cpu_count  cpu_percent  cpu_freq  cpu_user  cpu_system  \\\n",
      "0  1.649693e+09       64.0         16.3  2860.394      0.00        0.00   \n",
      "1  1.649693e+09       64.0         15.6  2749.923     21.36       11.86   \n",
      "2  1.649693e+09       64.0         15.5  2911.068      6.34        3.68   \n",
      "3  1.649693e+09       64.0         14.2  2893.562      5.50        3.67   \n",
      "4  1.649693e+09       64.0         14.9  2737.716     24.97       11.15   \n",
      "5  1.649693e+09       64.0         16.2  2817.795     16.33        7.14   \n",
      "6  1.649693e+09       64.0         19.4  2923.033      7.91        4.44   \n",
      "\n",
      "   cpu_idle  cpu_iowait  cpu_time  mem_total  mem_available  mem_swapfree  \\\n",
      "0      0.00        0.00      0.00    503.048        302.892       270.158   \n",
      "1    180.97        0.01    214.21    503.048        301.447       268.336   \n",
      "2     54.83        0.00     64.90    503.048        300.930       267.694   \n",
      "3     55.73        0.00     64.90    503.048        299.533       266.258   \n",
      "4    191.98        0.00    228.19    503.048        300.595       267.249   \n",
      "5    108.89        0.04    132.47    503.048        300.594       267.249   \n",
      "6     52.29        0.02     64.96    503.048        300.606       267.260   \n",
      "\n",
      "   dio_readsize  dio_writesize  nio_readsize  nio_writesize  \n",
      "0         0.000          0.000         0.000          0.000  \n",
      "1         0.000          0.001         0.001          0.001  \n",
      "2         0.000          0.000         0.000          0.000  \n",
      "3         0.000          0.000         0.000          0.000  \n",
      "4         0.000          0.001         0.001          0.001  \n",
      "5         0.001          0.001         0.001          0.022  \n",
      "6         0.000          0.001         0.000          0.007  \n"
     ]
    },
    {
     "data": {
      "text/plain": [
       "0"
      ]
     },
     "execution_count": 3,
     "metadata": {},
     "output_type": "execute_result"
    }
   ],
   "source": [
    "sym = pandas.read_csv(symfil)\n",
    "print(sym)\n",
    "os.system(f\"rm -f {symfil}\")"
   ]
  },
  {
   "cell_type": "code",
   "execution_count": 4,
   "id": "ec71e165-b9ff-4b08-b85a-e8ae32b8db49",
   "metadata": {},
   "outputs": [
    {
     "name": "stdout",
     "output_type": "stream",
     "text": [
      "           time         0         1         2         3         4         5  \\\n",
      "0  1.649693e+09  2836.655  3274.428  2310.502  3044.305  3033.274  3153.232   \n",
      "1  1.649693e+09  2824.724  2804.720  2472.465  3146.698  3164.364  2997.794   \n",
      "2  1.649693e+09  2851.391  3096.764  2726.499  3023.395  3054.671  2895.025   \n",
      "3  1.649693e+09  2841.419  3081.446  2702.121  3071.555  3174.817  2810.044   \n",
      "4  1.649693e+09  2803.693  2000.041  1662.048  2359.540  2296.295  3099.849   \n",
      "5  1.649693e+09  3089.138  2785.508  2761.404  3053.331  2777.750  2990.429   \n",
      "6  1.649693e+09  2977.871  3027.180  2834.074  3004.283  2867.498  3025.191   \n",
      "\n",
      "          6         7         8  ...        54        55        56        57  \\\n",
      "0  2722.125  2821.864  2786.474  ...  2964.727  3034.276  2645.044  2828.260   \n",
      "1  2977.936  3047.108  2812.886  ...  2885.262  2811.116  2800.695  2893.536   \n",
      "2  2859.892  3136.618  2429.400  ...  2904.116  2989.160  2821.200  2963.622   \n",
      "3  2775.083  3018.297  2501.116  ...  2815.083  2968.767  3046.427  3101.702   \n",
      "4  1777.700  2652.813  3164.753  ...  3057.535  2282.495  1839.275  3105.012   \n",
      "5  2354.093  2976.134  2819.335  ...  2806.681  2936.326  2912.650  2854.247   \n",
      "6  2847.098  2956.808  2555.375  ...  2872.513  2967.251  2926.459  3021.157   \n",
      "\n",
      "         58        59        60        61        62        63  \n",
      "0  2958.595  2777.364  2821.507  3022.670  2839.385  3131.382  \n",
      "1  2757.849  2808.350  2803.357  2411.110  2880.248  2527.788  \n",
      "2  2945.647  2888.443  2841.858  2953.739  2760.940  2810.316  \n",
      "3  2579.503  3069.100  2576.792  3013.520  3156.014  2742.081  \n",
      "4  2765.546  2114.897  2801.791  2106.563  2992.941  2119.371  \n",
      "5  2658.374  2998.997  2872.810  2984.390  2933.166  2872.884  \n",
      "6  2854.081  2966.665  2772.206  3057.995  2878.268  2923.667  \n",
      "\n",
      "[7 rows x 65 columns]\n"
     ]
    }
   ],
   "source": [
    "frm = pandas.read_csv(frqfil)\n",
    "print(frm)"
   ]
  },
  {
   "cell_type": "code",
   "execution_count": null,
   "id": "cb1b9b09-07c1-4e20-b4e4-c57957f5e118",
   "metadata": {},
   "outputs": [],
   "source": []
  }
 ],
 "metadata": {
  "kernelspec": {
   "display_name": "NERSC Python",
   "language": "python",
   "name": "python3"
  },
  "language_info": {
   "codemirror_mode": {
    "name": "ipython",
    "version": 3
   },
   "file_extension": ".py",
   "mimetype": "text/x-python",
   "name": "python",
   "nbconvert_exporter": "python",
   "pygments_lexer": "ipython3",
   "version": "3.9.7"
  }
 },
 "nbformat": 4,
 "nbformat_minor": 5
}
